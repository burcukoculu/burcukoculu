{
  "nbformat": 4,
  "nbformat_minor": 0,
  "metadata": {
    "colab": {
      "name": "RFM_analysis.ipynb",
      "provenance": [],
      "collapsed_sections": []
    },
    "kernelspec": {
      "display_name": "Python 3",
      "name": "python3"
    }
  },
  "cells": [
    {
      "cell_type": "code",
      "metadata": {
        "colab": {
          "base_uri": "https://localhost:8080/"
        },
        "id": "w9fj_Kxuh3tS",
        "outputId": "6052ede8-5c81-4bcf-99af-22650dd423ff"
      },
      "source": [
        "\r\n",
        "from google.colab import drive\r\n",
        "drive.mount('/content/gdrive')\r\n",
        "\r\n"
      ],
      "execution_count": null,
      "outputs": [
        {
          "output_type": "stream",
          "text": [
            "Mounted at /content/gdrive\n"
          ],
          "name": "stdout"
        }
      ]
    },
    {
      "cell_type": "code",
      "metadata": {
        "colab": {
          "base_uri": "https://localhost:8080/"
        },
        "id": "X7nMN6AliErZ",
        "outputId": "d10094b7-58c2-42c4-ebb9-9adbe77bb957"
      },
      "source": [
        "%cd /content/gdrive/My Drive/datasets"
      ],
      "execution_count": null,
      "outputs": [
        {
          "output_type": "stream",
          "text": [
            "/content/gdrive/My Drive/datasets\n"
          ],
          "name": "stdout"
        }
      ]
    },
    {
      "cell_type": "code",
      "metadata": {
        "id": "fUW0jNYhjC-_"
      },
      "source": [
        "import pandas as pd\r\n",
        "import numpy as np\r\n",
        "import datetime as dt\r\n",
        "import seaborn as sns\r\n",
        "import matplotlib.pyplot as plt\r\n",
        "\r\n"
      ],
      "execution_count": null,
      "outputs": []
    },
    {
      "cell_type": "code",
      "metadata": {
        "id": "ZWJJJEiXjIDu"
      },
      "source": [
        "df_ = pd.read_excel(\"online_retail_II.xlsx\",\r\n",
        "                    sheet_name=\"Year 2010-2011\")\r\n"
      ],
      "execution_count": null,
      "outputs": []
    },
    {
      "cell_type": "code",
      "metadata": {
        "colab": {
          "base_uri": "https://localhost:8080/",
          "height": 419
        },
        "id": "aPUXBkSVjuuW",
        "outputId": "a2a52a40-1e9e-48f2-abd1-49598a182b6a"
      },
      "source": [
        "df = df_.copy()\r\n",
        "df"
      ],
      "execution_count": null,
      "outputs": [
        {
          "output_type": "execute_result",
          "data": {
            "text/html": [
              "<div>\n",
              "<style scoped>\n",
              "    .dataframe tbody tr th:only-of-type {\n",
              "        vertical-align: middle;\n",
              "    }\n",
              "\n",
              "    .dataframe tbody tr th {\n",
              "        vertical-align: top;\n",
              "    }\n",
              "\n",
              "    .dataframe thead th {\n",
              "        text-align: right;\n",
              "    }\n",
              "</style>\n",
              "<table border=\"1\" class=\"dataframe\">\n",
              "  <thead>\n",
              "    <tr style=\"text-align: right;\">\n",
              "      <th></th>\n",
              "      <th>Invoice</th>\n",
              "      <th>StockCode</th>\n",
              "      <th>Description</th>\n",
              "      <th>Quantity</th>\n",
              "      <th>InvoiceDate</th>\n",
              "      <th>Price</th>\n",
              "      <th>Customer ID</th>\n",
              "      <th>Country</th>\n",
              "    </tr>\n",
              "  </thead>\n",
              "  <tbody>\n",
              "    <tr>\n",
              "      <th>0</th>\n",
              "      <td>536365</td>\n",
              "      <td>85123A</td>\n",
              "      <td>WHITE HANGING HEART T-LIGHT HOLDER</td>\n",
              "      <td>6</td>\n",
              "      <td>2010-12-01 08:26:00</td>\n",
              "      <td>2.55</td>\n",
              "      <td>17850.0</td>\n",
              "      <td>United Kingdom</td>\n",
              "    </tr>\n",
              "    <tr>\n",
              "      <th>1</th>\n",
              "      <td>536365</td>\n",
              "      <td>71053</td>\n",
              "      <td>WHITE METAL LANTERN</td>\n",
              "      <td>6</td>\n",
              "      <td>2010-12-01 08:26:00</td>\n",
              "      <td>3.39</td>\n",
              "      <td>17850.0</td>\n",
              "      <td>United Kingdom</td>\n",
              "    </tr>\n",
              "    <tr>\n",
              "      <th>2</th>\n",
              "      <td>536365</td>\n",
              "      <td>84406B</td>\n",
              "      <td>CREAM CUPID HEARTS COAT HANGER</td>\n",
              "      <td>8</td>\n",
              "      <td>2010-12-01 08:26:00</td>\n",
              "      <td>2.75</td>\n",
              "      <td>17850.0</td>\n",
              "      <td>United Kingdom</td>\n",
              "    </tr>\n",
              "    <tr>\n",
              "      <th>3</th>\n",
              "      <td>536365</td>\n",
              "      <td>84029G</td>\n",
              "      <td>KNITTED UNION FLAG HOT WATER BOTTLE</td>\n",
              "      <td>6</td>\n",
              "      <td>2010-12-01 08:26:00</td>\n",
              "      <td>3.39</td>\n",
              "      <td>17850.0</td>\n",
              "      <td>United Kingdom</td>\n",
              "    </tr>\n",
              "    <tr>\n",
              "      <th>4</th>\n",
              "      <td>536365</td>\n",
              "      <td>84029E</td>\n",
              "      <td>RED WOOLLY HOTTIE WHITE HEART.</td>\n",
              "      <td>6</td>\n",
              "      <td>2010-12-01 08:26:00</td>\n",
              "      <td>3.39</td>\n",
              "      <td>17850.0</td>\n",
              "      <td>United Kingdom</td>\n",
              "    </tr>\n",
              "    <tr>\n",
              "      <th>...</th>\n",
              "      <td>...</td>\n",
              "      <td>...</td>\n",
              "      <td>...</td>\n",
              "      <td>...</td>\n",
              "      <td>...</td>\n",
              "      <td>...</td>\n",
              "      <td>...</td>\n",
              "      <td>...</td>\n",
              "    </tr>\n",
              "    <tr>\n",
              "      <th>541905</th>\n",
              "      <td>581587</td>\n",
              "      <td>22899</td>\n",
              "      <td>CHILDREN'S APRON DOLLY GIRL</td>\n",
              "      <td>6</td>\n",
              "      <td>2011-12-09 12:50:00</td>\n",
              "      <td>2.10</td>\n",
              "      <td>12680.0</td>\n",
              "      <td>France</td>\n",
              "    </tr>\n",
              "    <tr>\n",
              "      <th>541906</th>\n",
              "      <td>581587</td>\n",
              "      <td>23254</td>\n",
              "      <td>CHILDRENS CUTLERY DOLLY GIRL</td>\n",
              "      <td>4</td>\n",
              "      <td>2011-12-09 12:50:00</td>\n",
              "      <td>4.15</td>\n",
              "      <td>12680.0</td>\n",
              "      <td>France</td>\n",
              "    </tr>\n",
              "    <tr>\n",
              "      <th>541907</th>\n",
              "      <td>581587</td>\n",
              "      <td>23255</td>\n",
              "      <td>CHILDRENS CUTLERY CIRCUS PARADE</td>\n",
              "      <td>4</td>\n",
              "      <td>2011-12-09 12:50:00</td>\n",
              "      <td>4.15</td>\n",
              "      <td>12680.0</td>\n",
              "      <td>France</td>\n",
              "    </tr>\n",
              "    <tr>\n",
              "      <th>541908</th>\n",
              "      <td>581587</td>\n",
              "      <td>22138</td>\n",
              "      <td>BAKING SET 9 PIECE RETROSPOT</td>\n",
              "      <td>3</td>\n",
              "      <td>2011-12-09 12:50:00</td>\n",
              "      <td>4.95</td>\n",
              "      <td>12680.0</td>\n",
              "      <td>France</td>\n",
              "    </tr>\n",
              "    <tr>\n",
              "      <th>541909</th>\n",
              "      <td>581587</td>\n",
              "      <td>POST</td>\n",
              "      <td>POSTAGE</td>\n",
              "      <td>1</td>\n",
              "      <td>2011-12-09 12:50:00</td>\n",
              "      <td>18.00</td>\n",
              "      <td>12680.0</td>\n",
              "      <td>France</td>\n",
              "    </tr>\n",
              "  </tbody>\n",
              "</table>\n",
              "<p>541910 rows × 8 columns</p>\n",
              "</div>"
            ],
            "text/plain": [
              "       Invoice StockCode  ... Customer ID         Country\n",
              "0       536365    85123A  ...     17850.0  United Kingdom\n",
              "1       536365     71053  ...     17850.0  United Kingdom\n",
              "2       536365    84406B  ...     17850.0  United Kingdom\n",
              "3       536365    84029G  ...     17850.0  United Kingdom\n",
              "4       536365    84029E  ...     17850.0  United Kingdom\n",
              "...        ...       ...  ...         ...             ...\n",
              "541905  581587     22899  ...     12680.0          France\n",
              "541906  581587     23254  ...     12680.0          France\n",
              "541907  581587     23255  ...     12680.0          France\n",
              "541908  581587     22138  ...     12680.0          France\n",
              "541909  581587      POST  ...     12680.0          France\n",
              "\n",
              "[541910 rows x 8 columns]"
            ]
          },
          "metadata": {
            "tags": []
          },
          "execution_count": 5
        }
      ]
    },
    {
      "cell_type": "markdown",
      "metadata": {
        "id": "F5v8s6Mo3NTL"
      },
      "source": [
        "## **Data Understanding**"
      ]
    },
    {
      "cell_type": "markdown",
      "metadata": {
        "id": "0c0_Xk61E6Tc"
      },
      "source": [
        "**VARIABLES(Değişkenler)** \r\n",
        "\r\n",
        "**InvoiceNo:** Fatura numarası. Her işleme yani faturaya ait eşsiz numara.\r\n",
        "\r\n",
        "*Eğer bu kod C ile başlıyorsa işlemin iptal edildiğini ifade eder.*\r\n",
        "\r\n",
        "**StockCode**: Ürün kodu. Her bir ürün için eşsiz numara.\r\n",
        "\r\n",
        "**Description**: Ürün ismi\r\n",
        "\r\n",
        "**Quantity**: Ürün adedi. Faturalardaki ürünlerden kaçar tane satıldığını ifade etmektedir.\r\n",
        "\r\n",
        "**InvoiceDate**: En son kesilen fatura tarihi ve zamanı.\r\n",
        "\r\n",
        "**Price**: Ürün fiyatı (Sterlin cinsinden)\r\n",
        "\r\n",
        "**Customer ID**: Eşsiz müşteri numarası\r\n",
        "\r\n",
        "**Country**: Müşterinin yaşadığı ülke adı"
      ]
    },
    {
      "cell_type": "code",
      "metadata": {
        "colab": {
          "base_uri": "https://localhost:8080/"
        },
        "id": "WDqnRFBzSx4f",
        "outputId": "071a106d-28aa-49be-a297-87025ed5db76"
      },
      "source": [
        "df.info()"
      ],
      "execution_count": null,
      "outputs": [
        {
          "output_type": "stream",
          "text": [
            "<class 'pandas.core.frame.DataFrame'>\n",
            "RangeIndex: 541910 entries, 0 to 541909\n",
            "Data columns (total 8 columns):\n",
            " #   Column       Non-Null Count   Dtype         \n",
            "---  ------       --------------   -----         \n",
            " 0   Invoice      541910 non-null  object        \n",
            " 1   StockCode    541910 non-null  object        \n",
            " 2   Description  540456 non-null  object        \n",
            " 3   Quantity     541910 non-null  int64         \n",
            " 4   InvoiceDate  541910 non-null  datetime64[ns]\n",
            " 5   Price        541910 non-null  float64       \n",
            " 6   Customer ID  406830 non-null  float64       \n",
            " 7   Country      541910 non-null  object        \n",
            "dtypes: datetime64[ns](1), float64(2), int64(1), object(4)\n",
            "memory usage: 33.1+ MB\n"
          ],
          "name": "stdout"
        }
      ]
    },
    {
      "cell_type": "code",
      "metadata": {
        "colab": {
          "base_uri": "https://localhost:8080/",
          "height": 142
        },
        "id": "Rpode7rDWM8B",
        "outputId": "c34d3d5c-54d2-4216-fd13-16457883a0c3"
      },
      "source": [
        "df.describe([0.01,0.05,0.10,0.25,0.50,0.75,0.90,0.95,0.99]).T  "
      ],
      "execution_count": null,
      "outputs": [
        {
          "output_type": "execute_result",
          "data": {
            "text/html": [
              "<div>\n",
              "<style scoped>\n",
              "    .dataframe tbody tr th:only-of-type {\n",
              "        vertical-align: middle;\n",
              "    }\n",
              "\n",
              "    .dataframe tbody tr th {\n",
              "        vertical-align: top;\n",
              "    }\n",
              "\n",
              "    .dataframe thead th {\n",
              "        text-align: right;\n",
              "    }\n",
              "</style>\n",
              "<table border=\"1\" class=\"dataframe\">\n",
              "  <thead>\n",
              "    <tr style=\"text-align: right;\">\n",
              "      <th></th>\n",
              "      <th>count</th>\n",
              "      <th>mean</th>\n",
              "      <th>std</th>\n",
              "      <th>min</th>\n",
              "      <th>1%</th>\n",
              "      <th>5%</th>\n",
              "      <th>10%</th>\n",
              "      <th>25%</th>\n",
              "      <th>50%</th>\n",
              "      <th>75%</th>\n",
              "      <th>90%</th>\n",
              "      <th>95%</th>\n",
              "      <th>99%</th>\n",
              "      <th>max</th>\n",
              "    </tr>\n",
              "  </thead>\n",
              "  <tbody>\n",
              "    <tr>\n",
              "      <th>Quantity</th>\n",
              "      <td>541910.0</td>\n",
              "      <td>9.552234</td>\n",
              "      <td>218.080957</td>\n",
              "      <td>-80995.00</td>\n",
              "      <td>-2.00</td>\n",
              "      <td>1.00</td>\n",
              "      <td>1.00</td>\n",
              "      <td>1.00</td>\n",
              "      <td>3.00</td>\n",
              "      <td>10.00</td>\n",
              "      <td>24.00</td>\n",
              "      <td>29.00</td>\n",
              "      <td>100.0</td>\n",
              "      <td>80995.0</td>\n",
              "    </tr>\n",
              "    <tr>\n",
              "      <th>Price</th>\n",
              "      <td>541910.0</td>\n",
              "      <td>4.611138</td>\n",
              "      <td>96.759765</td>\n",
              "      <td>-11062.06</td>\n",
              "      <td>0.19</td>\n",
              "      <td>0.42</td>\n",
              "      <td>0.63</td>\n",
              "      <td>1.25</td>\n",
              "      <td>2.08</td>\n",
              "      <td>4.13</td>\n",
              "      <td>7.95</td>\n",
              "      <td>9.95</td>\n",
              "      <td>18.0</td>\n",
              "      <td>38970.0</td>\n",
              "    </tr>\n",
              "    <tr>\n",
              "      <th>Customer ID</th>\n",
              "      <td>406830.0</td>\n",
              "      <td>15287.684160</td>\n",
              "      <td>1713.603074</td>\n",
              "      <td>12346.00</td>\n",
              "      <td>12415.00</td>\n",
              "      <td>12626.00</td>\n",
              "      <td>12876.00</td>\n",
              "      <td>13953.00</td>\n",
              "      <td>15152.00</td>\n",
              "      <td>16791.00</td>\n",
              "      <td>17719.00</td>\n",
              "      <td>17905.00</td>\n",
              "      <td>18212.0</td>\n",
              "      <td>18287.0</td>\n",
              "    </tr>\n",
              "  </tbody>\n",
              "</table>\n",
              "</div>"
            ],
            "text/plain": [
              "                count          mean          std  ...       95%      99%      max\n",
              "Quantity     541910.0      9.552234   218.080957  ...     29.00    100.0  80995.0\n",
              "Price        541910.0      4.611138    96.759765  ...      9.95     18.0  38970.0\n",
              "Customer ID  406830.0  15287.684160  1713.603074  ...  17905.00  18212.0  18287.0\n",
              "\n",
              "[3 rows x 14 columns]"
            ]
          },
          "metadata": {
            "tags": []
          },
          "execution_count": 7
        }
      ]
    },
    {
      "cell_type": "code",
      "metadata": {
        "colab": {
          "base_uri": "https://localhost:8080/"
        },
        "id": "Q5-Ut7pDXl3A",
        "outputId": "ead7735a-3bc7-45c2-db1c-c902406e5a0b"
      },
      "source": [
        "df.isnull().sum()"
      ],
      "execution_count": null,
      "outputs": [
        {
          "output_type": "execute_result",
          "data": {
            "text/plain": [
              "Invoice             0\n",
              "StockCode           0\n",
              "Description      1454\n",
              "Quantity            0\n",
              "InvoiceDate         0\n",
              "Price               0\n",
              "Customer ID    135080\n",
              "Country             0\n",
              "dtype: int64"
            ]
          },
          "metadata": {
            "tags": []
          },
          "execution_count": 8
        }
      ]
    },
    {
      "cell_type": "code",
      "metadata": {
        "colab": {
          "base_uri": "https://localhost:8080/"
        },
        "id": "Fhn_6m093YfZ",
        "outputId": "044f8404-c76d-49cd-f2e7-e3490a66ea73"
      },
      "source": [
        "df[\"Invoice\"].nunique()"
      ],
      "execution_count": null,
      "outputs": [
        {
          "output_type": "execute_result",
          "data": {
            "text/plain": [
              "25900"
            ]
          },
          "metadata": {
            "tags": []
          },
          "execution_count": 9
        }
      ]
    },
    {
      "cell_type": "code",
      "metadata": {
        "id": "ZN7sPgGD77L_"
      },
      "source": [
        "df = df[~df[\"Invoice\"].str.contains(\"C\", na=False)] #Cancel edilmiş siparişler çıkarıldı\r\n"
      ],
      "execution_count": null,
      "outputs": []
    },
    {
      "cell_type": "code",
      "metadata": {
        "colab": {
          "base_uri": "https://localhost:8080/"
        },
        "id": "qXgoCVRsSxtV",
        "outputId": "a77f34df-e87f-4956-9861-1b696f055280"
      },
      "source": [
        "df[\"TotalPrice\"] = df[\"Quantity\"] * df[\"Price\"]\r\n"
      ],
      "execution_count": null,
      "outputs": [
        {
          "output_type": "stream",
          "text": [
            "/usr/local/lib/python3.6/dist-packages/ipykernel_launcher.py:1: SettingWithCopyWarning: \n",
            "A value is trying to be set on a copy of a slice from a DataFrame.\n",
            "Try using .loc[row_indexer,col_indexer] = value instead\n",
            "\n",
            "See the caveats in the documentation: https://pandas.pydata.org/pandas-docs/stable/user_guide/indexing.html#returning-a-view-versus-a-copy\n",
            "  \"\"\"Entry point for launching an IPython kernel.\n"
          ],
          "name": "stderr"
        }
      ]
    },
    {
      "cell_type": "code",
      "metadata": {
        "colab": {
          "base_uri": "https://localhost:8080/"
        },
        "id": "ncoyA_YLWt5O",
        "outputId": "1126f126-bb10-43ec-cfac-4e8ed640f9b6"
      },
      "source": [
        "df.isnull().sum()"
      ],
      "execution_count": null,
      "outputs": [
        {
          "output_type": "execute_result",
          "data": {
            "text/plain": [
              "Invoice             0\n",
              "StockCode           0\n",
              "Description      1454\n",
              "Quantity            0\n",
              "InvoiceDate         0\n",
              "Price               0\n",
              "Customer ID    134697\n",
              "Country             0\n",
              "TotalPrice          0\n",
              "dtype: int64"
            ]
          },
          "metadata": {
            "tags": []
          },
          "execution_count": 12
        }
      ]
    },
    {
      "cell_type": "code",
      "metadata": {
        "colab": {
          "base_uri": "https://localhost:8080/"
        },
        "id": "2O-DZM0FVjvd",
        "outputId": "6cd7fc4b-13e0-40e3-c64a-9d426a061507"
      },
      "source": [
        "df.dropna(inplace=True)"
      ],
      "execution_count": null,
      "outputs": [
        {
          "output_type": "stream",
          "text": [
            "/usr/local/lib/python3.6/dist-packages/ipykernel_launcher.py:1: SettingWithCopyWarning: \n",
            "A value is trying to be set on a copy of a slice from a DataFrame\n",
            "\n",
            "See the caveats in the documentation: https://pandas.pydata.org/pandas-docs/stable/user_guide/indexing.html#returning-a-view-versus-a-copy\n",
            "  \"\"\"Entry point for launching an IPython kernel.\n"
          ],
          "name": "stderr"
        }
      ]
    },
    {
      "cell_type": "markdown",
      "metadata": {
        "id": "Z5XBXDA63qxu"
      },
      "source": [
        "## **Data Preparation**"
      ]
    },
    {
      "cell_type": "code",
      "metadata": {
        "colab": {
          "base_uri": "https://localhost:8080/",
          "height": 173
        },
        "id": "HYpDzZqqSxqn",
        "outputId": "4c55070a-aadb-40ae-cf15-8f64bc9b2f29"
      },
      "source": [
        "df.describe().T"
      ],
      "execution_count": null,
      "outputs": [
        {
          "output_type": "execute_result",
          "data": {
            "text/html": [
              "<div>\n",
              "<style scoped>\n",
              "    .dataframe tbody tr th:only-of-type {\n",
              "        vertical-align: middle;\n",
              "    }\n",
              "\n",
              "    .dataframe tbody tr th {\n",
              "        vertical-align: top;\n",
              "    }\n",
              "\n",
              "    .dataframe thead th {\n",
              "        text-align: right;\n",
              "    }\n",
              "</style>\n",
              "<table border=\"1\" class=\"dataframe\">\n",
              "  <thead>\n",
              "    <tr style=\"text-align: right;\">\n",
              "      <th></th>\n",
              "      <th>count</th>\n",
              "      <th>mean</th>\n",
              "      <th>std</th>\n",
              "      <th>min</th>\n",
              "      <th>25%</th>\n",
              "      <th>50%</th>\n",
              "      <th>75%</th>\n",
              "      <th>max</th>\n",
              "    </tr>\n",
              "  </thead>\n",
              "  <tbody>\n",
              "    <tr>\n",
              "      <th>Quantity</th>\n",
              "      <td>397925.0</td>\n",
              "      <td>13.021793</td>\n",
              "      <td>180.419984</td>\n",
              "      <td>1.0</td>\n",
              "      <td>2.00</td>\n",
              "      <td>6.00</td>\n",
              "      <td>12.00</td>\n",
              "      <td>80995.00</td>\n",
              "    </tr>\n",
              "    <tr>\n",
              "      <th>Price</th>\n",
              "      <td>397925.0</td>\n",
              "      <td>3.116212</td>\n",
              "      <td>22.096773</td>\n",
              "      <td>0.0</td>\n",
              "      <td>1.25</td>\n",
              "      <td>1.95</td>\n",
              "      <td>3.75</td>\n",
              "      <td>8142.75</td>\n",
              "    </tr>\n",
              "    <tr>\n",
              "      <th>Customer ID</th>\n",
              "      <td>397925.0</td>\n",
              "      <td>15294.308601</td>\n",
              "      <td>1713.172738</td>\n",
              "      <td>12346.0</td>\n",
              "      <td>13969.00</td>\n",
              "      <td>15159.00</td>\n",
              "      <td>16795.00</td>\n",
              "      <td>18287.00</td>\n",
              "    </tr>\n",
              "    <tr>\n",
              "      <th>TotalPrice</th>\n",
              "      <td>397925.0</td>\n",
              "      <td>22.394737</td>\n",
              "      <td>309.055200</td>\n",
              "      <td>0.0</td>\n",
              "      <td>4.68</td>\n",
              "      <td>11.80</td>\n",
              "      <td>19.80</td>\n",
              "      <td>168469.60</td>\n",
              "    </tr>\n",
              "  </tbody>\n",
              "</table>\n",
              "</div>"
            ],
            "text/plain": [
              "                count          mean          std  ...       50%       75%        max\n",
              "Quantity     397925.0     13.021793   180.419984  ...      6.00     12.00   80995.00\n",
              "Price        397925.0      3.116212    22.096773  ...      1.95      3.75    8142.75\n",
              "Customer ID  397925.0  15294.308601  1713.172738  ...  15159.00  16795.00   18287.00\n",
              "TotalPrice   397925.0     22.394737   309.055200  ...     11.80     19.80  168469.60\n",
              "\n",
              "[4 rows x 8 columns]"
            ]
          },
          "metadata": {
            "tags": []
          },
          "execution_count": 14
        }
      ]
    },
    {
      "cell_type": "code",
      "metadata": {
        "colab": {
          "base_uri": "https://localhost:8080/",
          "height": 204
        },
        "id": "hmC-mDPmyqZh",
        "outputId": "a15293ac-2f7a-4232-f9bd-fb549e222998"
      },
      "source": [
        "df.head()"
      ],
      "execution_count": null,
      "outputs": [
        {
          "output_type": "execute_result",
          "data": {
            "text/html": [
              "<div>\n",
              "<style scoped>\n",
              "    .dataframe tbody tr th:only-of-type {\n",
              "        vertical-align: middle;\n",
              "    }\n",
              "\n",
              "    .dataframe tbody tr th {\n",
              "        vertical-align: top;\n",
              "    }\n",
              "\n",
              "    .dataframe thead th {\n",
              "        text-align: right;\n",
              "    }\n",
              "</style>\n",
              "<table border=\"1\" class=\"dataframe\">\n",
              "  <thead>\n",
              "    <tr style=\"text-align: right;\">\n",
              "      <th></th>\n",
              "      <th>Invoice</th>\n",
              "      <th>StockCode</th>\n",
              "      <th>Description</th>\n",
              "      <th>Quantity</th>\n",
              "      <th>InvoiceDate</th>\n",
              "      <th>Price</th>\n",
              "      <th>Customer ID</th>\n",
              "      <th>Country</th>\n",
              "      <th>TotalPrice</th>\n",
              "    </tr>\n",
              "  </thead>\n",
              "  <tbody>\n",
              "    <tr>\n",
              "      <th>0</th>\n",
              "      <td>536365</td>\n",
              "      <td>85123A</td>\n",
              "      <td>WHITE HANGING HEART T-LIGHT HOLDER</td>\n",
              "      <td>6</td>\n",
              "      <td>2010-12-01 08:26:00</td>\n",
              "      <td>2.55</td>\n",
              "      <td>17850.0</td>\n",
              "      <td>United Kingdom</td>\n",
              "      <td>15.30</td>\n",
              "    </tr>\n",
              "    <tr>\n",
              "      <th>1</th>\n",
              "      <td>536365</td>\n",
              "      <td>71053</td>\n",
              "      <td>WHITE METAL LANTERN</td>\n",
              "      <td>6</td>\n",
              "      <td>2010-12-01 08:26:00</td>\n",
              "      <td>3.39</td>\n",
              "      <td>17850.0</td>\n",
              "      <td>United Kingdom</td>\n",
              "      <td>20.34</td>\n",
              "    </tr>\n",
              "    <tr>\n",
              "      <th>2</th>\n",
              "      <td>536365</td>\n",
              "      <td>84406B</td>\n",
              "      <td>CREAM CUPID HEARTS COAT HANGER</td>\n",
              "      <td>8</td>\n",
              "      <td>2010-12-01 08:26:00</td>\n",
              "      <td>2.75</td>\n",
              "      <td>17850.0</td>\n",
              "      <td>United Kingdom</td>\n",
              "      <td>22.00</td>\n",
              "    </tr>\n",
              "    <tr>\n",
              "      <th>3</th>\n",
              "      <td>536365</td>\n",
              "      <td>84029G</td>\n",
              "      <td>KNITTED UNION FLAG HOT WATER BOTTLE</td>\n",
              "      <td>6</td>\n",
              "      <td>2010-12-01 08:26:00</td>\n",
              "      <td>3.39</td>\n",
              "      <td>17850.0</td>\n",
              "      <td>United Kingdom</td>\n",
              "      <td>20.34</td>\n",
              "    </tr>\n",
              "    <tr>\n",
              "      <th>4</th>\n",
              "      <td>536365</td>\n",
              "      <td>84029E</td>\n",
              "      <td>RED WOOLLY HOTTIE WHITE HEART.</td>\n",
              "      <td>6</td>\n",
              "      <td>2010-12-01 08:26:00</td>\n",
              "      <td>3.39</td>\n",
              "      <td>17850.0</td>\n",
              "      <td>United Kingdom</td>\n",
              "      <td>20.34</td>\n",
              "    </tr>\n",
              "  </tbody>\n",
              "</table>\n",
              "</div>"
            ],
            "text/plain": [
              "  Invoice StockCode  ...         Country  TotalPrice\n",
              "0  536365    85123A  ...  United Kingdom       15.30\n",
              "1  536365     71053  ...  United Kingdom       20.34\n",
              "2  536365    84406B  ...  United Kingdom       22.00\n",
              "3  536365    84029G  ...  United Kingdom       20.34\n",
              "4  536365    84029E  ...  United Kingdom       20.34\n",
              "\n",
              "[5 rows x 9 columns]"
            ]
          },
          "metadata": {
            "tags": []
          },
          "execution_count": 15
        }
      ]
    },
    {
      "cell_type": "code",
      "metadata": {
        "id": "cmJLU5CdKtG5"
      },
      "source": [
        "eda_df = df.copy()"
      ],
      "execution_count": null,
      "outputs": []
    },
    {
      "cell_type": "code",
      "metadata": {
        "colab": {
          "base_uri": "https://localhost:8080/",
          "height": 390
        },
        "id": "hrmSdAbyJ0BD",
        "outputId": "be67f6bb-8653-4f4d-f424-ab233e178987"
      },
      "source": [
        "eda_df.groupby(\"Country\").agg({\"TotalPrice\": \"mean\"}).sort_values(\"TotalPrice\", ascending=False).head(10) #ülkelere göre ortalama gelirler top 10"
      ],
      "execution_count": null,
      "outputs": [
        {
          "output_type": "execute_result",
          "data": {
            "text/html": [
              "<div>\n",
              "<style scoped>\n",
              "    .dataframe tbody tr th:only-of-type {\n",
              "        vertical-align: middle;\n",
              "    }\n",
              "\n",
              "    .dataframe tbody tr th {\n",
              "        vertical-align: top;\n",
              "    }\n",
              "\n",
              "    .dataframe thead th {\n",
              "        text-align: right;\n",
              "    }\n",
              "</style>\n",
              "<table border=\"1\" class=\"dataframe\">\n",
              "  <thead>\n",
              "    <tr style=\"text-align: right;\">\n",
              "      <th></th>\n",
              "      <th>TotalPrice</th>\n",
              "    </tr>\n",
              "    <tr>\n",
              "      <th>Country</th>\n",
              "      <th></th>\n",
              "    </tr>\n",
              "  </thead>\n",
              "  <tbody>\n",
              "    <tr>\n",
              "      <th>Netherlands</th>\n",
              "      <td>120.798282</td>\n",
              "    </tr>\n",
              "    <tr>\n",
              "      <th>Australia</th>\n",
              "      <td>116.895620</td>\n",
              "    </tr>\n",
              "    <tr>\n",
              "      <th>Japan</th>\n",
              "      <td>116.561900</td>\n",
              "    </tr>\n",
              "    <tr>\n",
              "      <th>Singapore</th>\n",
              "      <td>95.852658</td>\n",
              "    </tr>\n",
              "    <tr>\n",
              "      <th>Sweden</th>\n",
              "      <td>85.096075</td>\n",
              "    </tr>\n",
              "    <tr>\n",
              "      <th>Denmark</th>\n",
              "      <td>49.882474</td>\n",
              "    </tr>\n",
              "    <tr>\n",
              "      <th>Lithuania</th>\n",
              "      <td>47.458857</td>\n",
              "    </tr>\n",
              "    <tr>\n",
              "      <th>Lebanon</th>\n",
              "      <td>37.641778</td>\n",
              "    </tr>\n",
              "    <tr>\n",
              "      <th>EIRE</th>\n",
              "      <td>36.687745</td>\n",
              "    </tr>\n",
              "    <tr>\n",
              "      <th>Brazil</th>\n",
              "      <td>35.737500</td>\n",
              "    </tr>\n",
              "  </tbody>\n",
              "</table>\n",
              "</div>"
            ],
            "text/plain": [
              "             TotalPrice\n",
              "Country                \n",
              "Netherlands  120.798282\n",
              "Australia    116.895620\n",
              "Japan        116.561900\n",
              "Singapore     95.852658\n",
              "Sweden        85.096075\n",
              "Denmark       49.882474\n",
              "Lithuania     47.458857\n",
              "Lebanon       37.641778\n",
              "EIRE          36.687745\n",
              "Brazil        35.737500"
            ]
          },
          "metadata": {
            "tags": []
          },
          "execution_count": 17
        }
      ]
    },
    {
      "cell_type": "code",
      "metadata": {
        "id": "PCT--sRjwSKN"
      },
      "source": [
        "eda_df = eda_df.groupby(\"Country\").agg({\"TotalPrice\": \"mean\"}).sort_values(\"TotalPrice\", ascending=False) "
      ],
      "execution_count": null,
      "outputs": []
    },
    {
      "cell_type": "code",
      "metadata": {
        "id": "_0696iYjwh_G"
      },
      "source": [
        "eda_df.reset_index(inplace=True)"
      ],
      "execution_count": null,
      "outputs": []
    },
    {
      "cell_type": "code",
      "metadata": {
        "id": "xlNVNyzPJtnA",
        "colab": {
          "base_uri": "https://localhost:8080/",
          "height": 470
        },
        "outputId": "a0cbfdb9-a91f-40b1-800e-945bfaf26630"
      },
      "source": [
        "def mean_price(DataFrame): \r\n",
        "    plt.figure(figsize=(15,5))\r\n",
        "    ax = sns.barplot(x='Country', y='TotalPrice', data=eda_df)\r\n",
        "    ax.set_xticklabels(ax.get_xticklabels(), rotation=90,fontsize=12)\r\n",
        "    plt.title(\"Average Total Prices of Countries\")\r\n",
        "mean_price(eda_df)"
      ],
      "execution_count": null,
      "outputs": [
        {
          "output_type": "display_data",
          "data": {
            "image/png": "[encoded data removed]",
            "text/plain": [
              "<Figure size 1080x360 with 1 Axes>"
            ]
          },
          "metadata": {
            "tags": [],
            "needs_background": "light"
          }
        }
      ]
    },
    {
      "cell_type": "markdown",
      "metadata": {
        "id": "guq2zy6Ay-iD"
      },
      "source": [
        "## **Calculating RFM Metrics**"
      ]
    },
    {
      "cell_type": "markdown",
      "metadata": {
        "id": "6o644laOArS6"
      },
      "source": [
        "**RFM**\r\n",
        "\r\n",
        "Müşterinin en son alışverişinden bu yana geçen süredir. \r\n",
        "\r\n",
        "**Recency** = Bugünün Tarihi - Son alışveriş Tarihi\r\n",
        "\r\n",
        "**Frequency** = Faturadaki ürün sayısı \r\n",
        "\r\n",
        "**Monetary** = Müşterinin toplam harcadığı miktar \r\n",
        "\r\n"
      ]
    },
    {
      "cell_type": "code",
      "metadata": {
        "id": "BimLO0UmzGQX",
        "colab": {
          "base_uri": "https://localhost:8080/"
        },
        "outputId": "ddf9a4b3-9631-4fd3-b488-08e5e87e7be3"
      },
      "source": [
        "df[\"InvoiceDate\"].max()"
      ],
      "execution_count": null,
      "outputs": [
        {
          "output_type": "execute_result",
          "data": {
            "text/plain": [
              "Timestamp('2011-12-09 12:50:00')"
            ]
          },
          "metadata": {
            "tags": []
          },
          "execution_count": 21
        }
      ]
    },
    {
      "cell_type": "code",
      "metadata": {
        "id": "AaiuQycy_qJ9"
      },
      "source": [
        "today_date = dt.datetime(2011, 12, 11)"
      ],
      "execution_count": null,
      "outputs": []
    },
    {
      "cell_type": "code",
      "metadata": {
        "id": "yVXcR9Nb_-34"
      },
      "source": [
        "rfm = df.groupby('Customer ID').agg({'InvoiceDate': lambda date: (today_date - date.max()).days,\r\n",
        "                                     'Invoice': lambda num: len(num),\r\n",
        "                                     'TotalPrice': lambda TotalPrice: TotalPrice.sum()})\r\n"
      ],
      "execution_count": null,
      "outputs": []
    },
    {
      "cell_type": "code",
      "metadata": {
        "id": "_ms61Jn1DpCa",
        "colab": {
          "base_uri": "https://localhost:8080/",
          "height": 450
        },
        "outputId": "6aa4551e-74ab-4dd5-e483-a15c77e2cd87"
      },
      "source": [
        "rfm"
      ],
      "execution_count": null,
      "outputs": [
        {
          "output_type": "execute_result",
          "data": {
            "text/html": [
              "<div>\n",
              "<style scoped>\n",
              "    .dataframe tbody tr th:only-of-type {\n",
              "        vertical-align: middle;\n",
              "    }\n",
              "\n",
              "    .dataframe tbody tr th {\n",
              "        vertical-align: top;\n",
              "    }\n",
              "\n",
              "    .dataframe thead th {\n",
              "        text-align: right;\n",
              "    }\n",
              "</style>\n",
              "<table border=\"1\" class=\"dataframe\">\n",
              "  <thead>\n",
              "    <tr style=\"text-align: right;\">\n",
              "      <th></th>\n",
              "      <th>InvoiceDate</th>\n",
              "      <th>Invoice</th>\n",
              "      <th>TotalPrice</th>\n",
              "    </tr>\n",
              "    <tr>\n",
              "      <th>Customer ID</th>\n",
              "      <th></th>\n",
              "      <th></th>\n",
              "      <th></th>\n",
              "    </tr>\n",
              "  </thead>\n",
              "  <tbody>\n",
              "    <tr>\n",
              "      <th>12346.0</th>\n",
              "      <td>326</td>\n",
              "      <td>1</td>\n",
              "      <td>77183.60</td>\n",
              "    </tr>\n",
              "    <tr>\n",
              "      <th>12347.0</th>\n",
              "      <td>3</td>\n",
              "      <td>182</td>\n",
              "      <td>4310.00</td>\n",
              "    </tr>\n",
              "    <tr>\n",
              "      <th>12348.0</th>\n",
              "      <td>76</td>\n",
              "      <td>31</td>\n",
              "      <td>1797.24</td>\n",
              "    </tr>\n",
              "    <tr>\n",
              "      <th>12349.0</th>\n",
              "      <td>19</td>\n",
              "      <td>73</td>\n",
              "      <td>1757.55</td>\n",
              "    </tr>\n",
              "    <tr>\n",
              "      <th>12350.0</th>\n",
              "      <td>311</td>\n",
              "      <td>17</td>\n",
              "      <td>334.40</td>\n",
              "    </tr>\n",
              "    <tr>\n",
              "      <th>...</th>\n",
              "      <td>...</td>\n",
              "      <td>...</td>\n",
              "      <td>...</td>\n",
              "    </tr>\n",
              "    <tr>\n",
              "      <th>18280.0</th>\n",
              "      <td>278</td>\n",
              "      <td>10</td>\n",
              "      <td>180.60</td>\n",
              "    </tr>\n",
              "    <tr>\n",
              "      <th>18281.0</th>\n",
              "      <td>181</td>\n",
              "      <td>7</td>\n",
              "      <td>80.82</td>\n",
              "    </tr>\n",
              "    <tr>\n",
              "      <th>18282.0</th>\n",
              "      <td>8</td>\n",
              "      <td>12</td>\n",
              "      <td>178.05</td>\n",
              "    </tr>\n",
              "    <tr>\n",
              "      <th>18283.0</th>\n",
              "      <td>4</td>\n",
              "      <td>756</td>\n",
              "      <td>2094.88</td>\n",
              "    </tr>\n",
              "    <tr>\n",
              "      <th>18287.0</th>\n",
              "      <td>43</td>\n",
              "      <td>70</td>\n",
              "      <td>1837.28</td>\n",
              "    </tr>\n",
              "  </tbody>\n",
              "</table>\n",
              "<p>4339 rows × 3 columns</p>\n",
              "</div>"
            ],
            "text/plain": [
              "             InvoiceDate  Invoice  TotalPrice\n",
              "Customer ID                                  \n",
              "12346.0              326        1    77183.60\n",
              "12347.0                3      182     4310.00\n",
              "12348.0               76       31     1797.24\n",
              "12349.0               19       73     1757.55\n",
              "12350.0              311       17      334.40\n",
              "...                  ...      ...         ...\n",
              "18280.0              278       10      180.60\n",
              "18281.0              181        7       80.82\n",
              "18282.0                8       12      178.05\n",
              "18283.0                4      756     2094.88\n",
              "18287.0               43       70     1837.28\n",
              "\n",
              "[4339 rows x 3 columns]"
            ]
          },
          "metadata": {
            "tags": []
          },
          "execution_count": 24
        }
      ]
    },
    {
      "cell_type": "code",
      "metadata": {
        "id": "eF7ouRMXDp94",
        "colab": {
          "base_uri": "https://localhost:8080/",
          "height": 450
        },
        "outputId": "18cd336e-fa98-4f05-f7be-8dcce78e9b1a"
      },
      "source": [
        "rfm.columns = ['Recency', 'Frequency', 'Monetary']\r\n",
        "rfm"
      ],
      "execution_count": null,
      "outputs": [
        {
          "output_type": "execute_result",
          "data": {
            "text/html": [
              "<div>\n",
              "<style scoped>\n",
              "    .dataframe tbody tr th:only-of-type {\n",
              "        vertical-align: middle;\n",
              "    }\n",
              "\n",
              "    .dataframe tbody tr th {\n",
              "        vertical-align: top;\n",
              "    }\n",
              "\n",
              "    .dataframe thead th {\n",
              "        text-align: right;\n",
              "    }\n",
              "</style>\n",
              "<table border=\"1\" class=\"dataframe\">\n",
              "  <thead>\n",
              "    <tr style=\"text-align: right;\">\n",
              "      <th></th>\n",
              "      <th>Recency</th>\n",
              "      <th>Frequency</th>\n",
              "      <th>Monetary</th>\n",
              "    </tr>\n",
              "    <tr>\n",
              "      <th>Customer ID</th>\n",
              "      <th></th>\n",
              "      <th></th>\n",
              "      <th></th>\n",
              "    </tr>\n",
              "  </thead>\n",
              "  <tbody>\n",
              "    <tr>\n",
              "      <th>12346.0</th>\n",
              "      <td>326</td>\n",
              "      <td>1</td>\n",
              "      <td>77183.60</td>\n",
              "    </tr>\n",
              "    <tr>\n",
              "      <th>12347.0</th>\n",
              "      <td>3</td>\n",
              "      <td>182</td>\n",
              "      <td>4310.00</td>\n",
              "    </tr>\n",
              "    <tr>\n",
              "      <th>12348.0</th>\n",
              "      <td>76</td>\n",
              "      <td>31</td>\n",
              "      <td>1797.24</td>\n",
              "    </tr>\n",
              "    <tr>\n",
              "      <th>12349.0</th>\n",
              "      <td>19</td>\n",
              "      <td>73</td>\n",
              "      <td>1757.55</td>\n",
              "    </tr>\n",
              "    <tr>\n",
              "      <th>12350.0</th>\n",
              "      <td>311</td>\n",
              "      <td>17</td>\n",
              "      <td>334.40</td>\n",
              "    </tr>\n",
              "    <tr>\n",
              "      <th>...</th>\n",
              "      <td>...</td>\n",
              "      <td>...</td>\n",
              "      <td>...</td>\n",
              "    </tr>\n",
              "    <tr>\n",
              "      <th>18280.0</th>\n",
              "      <td>278</td>\n",
              "      <td>10</td>\n",
              "      <td>180.60</td>\n",
              "    </tr>\n",
              "    <tr>\n",
              "      <th>18281.0</th>\n",
              "      <td>181</td>\n",
              "      <td>7</td>\n",
              "      <td>80.82</td>\n",
              "    </tr>\n",
              "    <tr>\n",
              "      <th>18282.0</th>\n",
              "      <td>8</td>\n",
              "      <td>12</td>\n",
              "      <td>178.05</td>\n",
              "    </tr>\n",
              "    <tr>\n",
              "      <th>18283.0</th>\n",
              "      <td>4</td>\n",
              "      <td>756</td>\n",
              "      <td>2094.88</td>\n",
              "    </tr>\n",
              "    <tr>\n",
              "      <th>18287.0</th>\n",
              "      <td>43</td>\n",
              "      <td>70</td>\n",
              "      <td>1837.28</td>\n",
              "    </tr>\n",
              "  </tbody>\n",
              "</table>\n",
              "<p>4339 rows × 3 columns</p>\n",
              "</div>"
            ],
            "text/plain": [
              "             Recency  Frequency  Monetary\n",
              "Customer ID                              \n",
              "12346.0          326          1  77183.60\n",
              "12347.0            3        182   4310.00\n",
              "12348.0           76         31   1797.24\n",
              "12349.0           19         73   1757.55\n",
              "12350.0          311         17    334.40\n",
              "...              ...        ...       ...\n",
              "18280.0          278         10    180.60\n",
              "18281.0          181          7     80.82\n",
              "18282.0            8         12    178.05\n",
              "18283.0            4        756   2094.88\n",
              "18287.0           43         70   1837.28\n",
              "\n",
              "[4339 rows x 3 columns]"
            ]
          },
          "metadata": {
            "tags": []
          },
          "execution_count": 25
        }
      ]
    },
    {
      "cell_type": "code",
      "metadata": {
        "id": "Q7F0rLQAGcy5"
      },
      "source": [
        "rfm = rfm[((rfm[\"Monetary\"] > 0) & (rfm[\"Frequency\"] > 0))]"
      ],
      "execution_count": null,
      "outputs": []
    },
    {
      "cell_type": "markdown",
      "metadata": {
        "id": "muQJ21VjMSjt"
      },
      "source": [
        "## **Calculating RFM Scores**"
      ]
    },
    {
      "cell_type": "code",
      "metadata": {
        "id": "npjLDIpzGd0k",
        "colab": {
          "base_uri": "https://localhost:8080/"
        },
        "outputId": "cad35575-d867-4681-8623-c6eacc44c5be"
      },
      "source": [
        "rfm[\"RecencyScore\"] = pd.qcut(rfm['Recency'], 5, labels=[5,4,3,2,1]) "
      ],
      "execution_count": null,
      "outputs": [
        {
          "output_type": "stream",
          "text": [
            "/usr/local/lib/python3.6/dist-packages/ipykernel_launcher.py:1: SettingWithCopyWarning: \n",
            "A value is trying to be set on a copy of a slice from a DataFrame.\n",
            "Try using .loc[row_indexer,col_indexer] = value instead\n",
            "\n",
            "See the caveats in the documentation: https://pandas.pydata.org/pandas-docs/stable/user_guide/indexing.html#returning-a-view-versus-a-copy\n",
            "  \"\"\"Entry point for launching an IPython kernel.\n"
          ],
          "name": "stderr"
        }
      ]
    },
    {
      "cell_type": "code",
      "metadata": {
        "id": "9lhjXwm6Gdwb",
        "colab": {
          "base_uri": "https://localhost:8080/"
        },
        "outputId": "ce4c79fa-df43-4620-bbb5-f00de31bd90e"
      },
      "source": [
        "rfm[\"FrequencyScore\"] = pd.qcut(rfm['Frequency'], 5, labels=[1,2,3,4,5]) "
      ],
      "execution_count": null,
      "outputs": [
        {
          "output_type": "stream",
          "text": [
            "/usr/local/lib/python3.6/dist-packages/ipykernel_launcher.py:1: SettingWithCopyWarning: \n",
            "A value is trying to be set on a copy of a slice from a DataFrame.\n",
            "Try using .loc[row_indexer,col_indexer] = value instead\n",
            "\n",
            "See the caveats in the documentation: https://pandas.pydata.org/pandas-docs/stable/user_guide/indexing.html#returning-a-view-versus-a-copy\n",
            "  \"\"\"Entry point for launching an IPython kernel.\n"
          ],
          "name": "stderr"
        }
      ]
    },
    {
      "cell_type": "code",
      "metadata": {
        "id": "xbFj9-v0xuSB",
        "colab": {
          "base_uri": "https://localhost:8080/"
        },
        "outputId": "239ba09c-ca69-490b-dd2c-a9ab48a6261e"
      },
      "source": [
        "rfm[\"MonetaryScore\"] = pd.qcut(rfm[\"Monetary\"], 5, labels =[1,2,3,4,5])"
      ],
      "execution_count": null,
      "outputs": [
        {
          "output_type": "stream",
          "text": [
            "/usr/local/lib/python3.6/dist-packages/ipykernel_launcher.py:1: SettingWithCopyWarning: \n",
            "A value is trying to be set on a copy of a slice from a DataFrame.\n",
            "Try using .loc[row_indexer,col_indexer] = value instead\n",
            "\n",
            "See the caveats in the documentation: https://pandas.pydata.org/pandas-docs/stable/user_guide/indexing.html#returning-a-view-versus-a-copy\n",
            "  \"\"\"Entry point for launching an IPython kernel.\n"
          ],
          "name": "stderr"
        }
      ]
    },
    {
      "cell_type": "code",
      "metadata": {
        "id": "INivkaKHGdsZ",
        "colab": {
          "base_uri": "https://localhost:8080/"
        },
        "outputId": "07a073c3-8a41-498d-e74a-1aaef8de288b"
      },
      "source": [
        "rfm[\"RFM_SCORE\"] = (rfm[\"RecencyScore\"].astype('str')+ rfm[\"FrequencyScore\"].astype('str') + rfm[\"MonetaryScore\"].astype('str'))"
      ],
      "execution_count": null,
      "outputs": [
        {
          "output_type": "stream",
          "text": [
            "/usr/local/lib/python3.6/dist-packages/ipykernel_launcher.py:1: SettingWithCopyWarning: \n",
            "A value is trying to be set on a copy of a slice from a DataFrame.\n",
            "Try using .loc[row_indexer,col_indexer] = value instead\n",
            "\n",
            "See the caveats in the documentation: https://pandas.pydata.org/pandas-docs/stable/user_guide/indexing.html#returning-a-view-versus-a-copy\n",
            "  \"\"\"Entry point for launching an IPython kernel.\n"
          ],
          "name": "stderr"
        }
      ]
    },
    {
      "cell_type": "code",
      "metadata": {
        "id": "TNfMbANuH2uo"
      },
      "source": [
        "rfm[\"FrequencyScore\"] = pd.qcut(rfm['Frequency'], 5, labels=[1,2,3,4,5]) \r\n",
        "rfm[\"MonetaryScore\"] = pd.qcut(rfm[\"Monetary\"], 5, labels =[1,2,3,4,5])"
      ],
      "execution_count": null,
      "outputs": []
    },
    {
      "cell_type": "code",
      "metadata": {
        "id": "tpCnlC3B2UyC",
        "colab": {
          "base_uri": "https://localhost:8080/",
          "height": 390
        },
        "outputId": "df3fe2d2-68b6-48ad-90a5-f0bc4764cc46"
      },
      "source": [
        "rfm.head(10)"
      ],
      "execution_count": null,
      "outputs": [
        {
          "output_type": "execute_result",
          "data": {
            "text/html": [
              "<div>\n",
              "<style scoped>\n",
              "    .dataframe tbody tr th:only-of-type {\n",
              "        vertical-align: middle;\n",
              "    }\n",
              "\n",
              "    .dataframe tbody tr th {\n",
              "        vertical-align: top;\n",
              "    }\n",
              "\n",
              "    .dataframe thead th {\n",
              "        text-align: right;\n",
              "    }\n",
              "</style>\n",
              "<table border=\"1\" class=\"dataframe\">\n",
              "  <thead>\n",
              "    <tr style=\"text-align: right;\">\n",
              "      <th></th>\n",
              "      <th>Recency</th>\n",
              "      <th>Frequency</th>\n",
              "      <th>Monetary</th>\n",
              "      <th>RecencyScore</th>\n",
              "      <th>FrequencyScore</th>\n",
              "      <th>MonetaryScore</th>\n",
              "      <th>RFM_SCORE</th>\n",
              "    </tr>\n",
              "    <tr>\n",
              "      <th>Customer ID</th>\n",
              "      <th></th>\n",
              "      <th></th>\n",
              "      <th></th>\n",
              "      <th></th>\n",
              "      <th></th>\n",
              "      <th></th>\n",
              "      <th></th>\n",
              "    </tr>\n",
              "  </thead>\n",
              "  <tbody>\n",
              "    <tr>\n",
              "      <th>12346.0</th>\n",
              "      <td>326</td>\n",
              "      <td>1</td>\n",
              "      <td>77183.60</td>\n",
              "      <td>1</td>\n",
              "      <td>1</td>\n",
              "      <td>5</td>\n",
              "      <td>115</td>\n",
              "    </tr>\n",
              "    <tr>\n",
              "      <th>12347.0</th>\n",
              "      <td>3</td>\n",
              "      <td>182</td>\n",
              "      <td>4310.00</td>\n",
              "      <td>5</td>\n",
              "      <td>5</td>\n",
              "      <td>5</td>\n",
              "      <td>555</td>\n",
              "    </tr>\n",
              "    <tr>\n",
              "      <th>12348.0</th>\n",
              "      <td>76</td>\n",
              "      <td>31</td>\n",
              "      <td>1797.24</td>\n",
              "      <td>2</td>\n",
              "      <td>3</td>\n",
              "      <td>4</td>\n",
              "      <td>234</td>\n",
              "    </tr>\n",
              "    <tr>\n",
              "      <th>12349.0</th>\n",
              "      <td>19</td>\n",
              "      <td>73</td>\n",
              "      <td>1757.55</td>\n",
              "      <td>4</td>\n",
              "      <td>4</td>\n",
              "      <td>4</td>\n",
              "      <td>444</td>\n",
              "    </tr>\n",
              "    <tr>\n",
              "      <th>12350.0</th>\n",
              "      <td>311</td>\n",
              "      <td>17</td>\n",
              "      <td>334.40</td>\n",
              "      <td>1</td>\n",
              "      <td>2</td>\n",
              "      <td>2</td>\n",
              "      <td>122</td>\n",
              "    </tr>\n",
              "    <tr>\n",
              "      <th>12352.0</th>\n",
              "      <td>37</td>\n",
              "      <td>85</td>\n",
              "      <td>2506.04</td>\n",
              "      <td>3</td>\n",
              "      <td>4</td>\n",
              "      <td>5</td>\n",
              "      <td>345</td>\n",
              "    </tr>\n",
              "    <tr>\n",
              "      <th>12353.0</th>\n",
              "      <td>205</td>\n",
              "      <td>4</td>\n",
              "      <td>89.00</td>\n",
              "      <td>1</td>\n",
              "      <td>1</td>\n",
              "      <td>1</td>\n",
              "      <td>111</td>\n",
              "    </tr>\n",
              "    <tr>\n",
              "      <th>12354.0</th>\n",
              "      <td>233</td>\n",
              "      <td>58</td>\n",
              "      <td>1079.40</td>\n",
              "      <td>1</td>\n",
              "      <td>3</td>\n",
              "      <td>4</td>\n",
              "      <td>134</td>\n",
              "    </tr>\n",
              "    <tr>\n",
              "      <th>12355.0</th>\n",
              "      <td>215</td>\n",
              "      <td>13</td>\n",
              "      <td>459.40</td>\n",
              "      <td>1</td>\n",
              "      <td>1</td>\n",
              "      <td>2</td>\n",
              "      <td>112</td>\n",
              "    </tr>\n",
              "    <tr>\n",
              "      <th>12356.0</th>\n",
              "      <td>23</td>\n",
              "      <td>59</td>\n",
              "      <td>2811.43</td>\n",
              "      <td>4</td>\n",
              "      <td>4</td>\n",
              "      <td>5</td>\n",
              "      <td>445</td>\n",
              "    </tr>\n",
              "  </tbody>\n",
              "</table>\n",
              "</div>"
            ],
            "text/plain": [
              "             Recency  Frequency  ...  MonetaryScore RFM_SCORE\n",
              "Customer ID                      ...                         \n",
              "12346.0          326          1  ...              5       115\n",
              "12347.0            3        182  ...              5       555\n",
              "12348.0           76         31  ...              4       234\n",
              "12349.0           19         73  ...              4       444\n",
              "12350.0          311         17  ...              2       122\n",
              "12352.0           37         85  ...              5       345\n",
              "12353.0          205          4  ...              1       111\n",
              "12354.0          233         58  ...              4       134\n",
              "12355.0          215         13  ...              2       112\n",
              "12356.0           23         59  ...              5       445\n",
              "\n",
              "[10 rows x 7 columns]"
            ]
          },
          "metadata": {
            "tags": []
          },
          "execution_count": 31
        }
      ]
    },
    {
      "cell_type": "markdown",
      "metadata": {
        "id": "R0MgTHFAUd6Y"
      },
      "source": [
        "## **Naming & Analysing RFM Segments**"
      ]
    },
    {
      "cell_type": "markdown",
      "metadata": {
        "id": "9X20680Obr1B"
      },
      "source": [
        "**RFM isimlendirmesi**"
      ]
    },
    {
      "cell_type": "code",
      "metadata": {
        "id": "pjyg74t_Gdo0"
      },
      "source": [
        "seg_map = {\r\n",
        "    r'[1-2][1-2]': 'Hibernating',\r\n",
        "    r'[1-2][3-4]': 'At_Risk',\r\n",
        "    r'[1-2]5': 'Cant_Loose',\r\n",
        "    r'3[1-2]': 'About_to_Sleep',\r\n",
        "    r'33': 'Need_Attention',\r\n",
        "    r'[3-4][4-5]': 'Loyal_Customers',\r\n",
        "    r'41': 'Promising',\r\n",
        "    r'51': 'New_Customers',\r\n",
        "    r'[4-5][2-3]': 'Potential_Loyalists',\r\n",
        "    r'5[4-5]': 'Champions'\r\n",
        "}"
      ],
      "execution_count": null,
      "outputs": []
    },
    {
      "cell_type": "code",
      "metadata": {
        "id": "qjpWQEGMdiDt",
        "colab": {
          "base_uri": "https://localhost:8080/"
        },
        "outputId": "59e4e19c-96ff-499d-ea85-6b1107c759af"
      },
      "source": [
        "rfm['Segment'] = rfm['RecencyScore'].astype(str) + rfm['FrequencyScore'].astype(str)"
      ],
      "execution_count": null,
      "outputs": [
        {
          "output_type": "stream",
          "text": [
            "/usr/local/lib/python3.6/dist-packages/ipykernel_launcher.py:1: SettingWithCopyWarning: \n",
            "A value is trying to be set on a copy of a slice from a DataFrame.\n",
            "Try using .loc[row_indexer,col_indexer] = value instead\n",
            "\n",
            "See the caveats in the documentation: https://pandas.pydata.org/pandas-docs/stable/user_guide/indexing.html#returning-a-view-versus-a-copy\n",
            "  \"\"\"Entry point for launching an IPython kernel.\n"
          ],
          "name": "stderr"
        }
      ]
    },
    {
      "cell_type": "code",
      "metadata": {
        "id": "k0duHKbOGdgo",
        "colab": {
          "base_uri": "https://localhost:8080/"
        },
        "outputId": "64df76be-ba5e-4d52-c8fa-c1d151830964"
      },
      "source": [
        "rfm['Segment'] = rfm['Segment'].replace(seg_map, regex=True)"
      ],
      "execution_count": null,
      "outputs": [
        {
          "output_type": "stream",
          "text": [
            "/usr/local/lib/python3.6/dist-packages/ipykernel_launcher.py:1: SettingWithCopyWarning: \n",
            "A value is trying to be set on a copy of a slice from a DataFrame.\n",
            "Try using .loc[row_indexer,col_indexer] = value instead\n",
            "\n",
            "See the caveats in the documentation: https://pandas.pydata.org/pandas-docs/stable/user_guide/indexing.html#returning-a-view-versus-a-copy\n",
            "  \"\"\"Entry point for launching an IPython kernel.\n"
          ],
          "name": "stderr"
        }
      ]
    },
    {
      "cell_type": "code",
      "metadata": {
        "id": "85cgIzMyzk3D",
        "colab": {
          "base_uri": "https://localhost:8080/",
          "height": 450
        },
        "outputId": "46379c61-e8c7-4ef1-c139-2b424b154ba7"
      },
      "source": [
        "rfm"
      ],
      "execution_count": null,
      "outputs": [
        {
          "output_type": "execute_result",
          "data": {
            "text/html": [
              "<div>\n",
              "<style scoped>\n",
              "    .dataframe tbody tr th:only-of-type {\n",
              "        vertical-align: middle;\n",
              "    }\n",
              "\n",
              "    .dataframe tbody tr th {\n",
              "        vertical-align: top;\n",
              "    }\n",
              "\n",
              "    .dataframe thead th {\n",
              "        text-align: right;\n",
              "    }\n",
              "</style>\n",
              "<table border=\"1\" class=\"dataframe\">\n",
              "  <thead>\n",
              "    <tr style=\"text-align: right;\">\n",
              "      <th></th>\n",
              "      <th>Recency</th>\n",
              "      <th>Frequency</th>\n",
              "      <th>Monetary</th>\n",
              "      <th>RecencyScore</th>\n",
              "      <th>FrequencyScore</th>\n",
              "      <th>MonetaryScore</th>\n",
              "      <th>RFM_SCORE</th>\n",
              "      <th>Segment</th>\n",
              "    </tr>\n",
              "    <tr>\n",
              "      <th>Customer ID</th>\n",
              "      <th></th>\n",
              "      <th></th>\n",
              "      <th></th>\n",
              "      <th></th>\n",
              "      <th></th>\n",
              "      <th></th>\n",
              "      <th></th>\n",
              "      <th></th>\n",
              "    </tr>\n",
              "  </thead>\n",
              "  <tbody>\n",
              "    <tr>\n",
              "      <th>12346.0</th>\n",
              "      <td>326</td>\n",
              "      <td>1</td>\n",
              "      <td>77183.60</td>\n",
              "      <td>1</td>\n",
              "      <td>1</td>\n",
              "      <td>5</td>\n",
              "      <td>115</td>\n",
              "      <td>Hibernating</td>\n",
              "    </tr>\n",
              "    <tr>\n",
              "      <th>12347.0</th>\n",
              "      <td>3</td>\n",
              "      <td>182</td>\n",
              "      <td>4310.00</td>\n",
              "      <td>5</td>\n",
              "      <td>5</td>\n",
              "      <td>5</td>\n",
              "      <td>555</td>\n",
              "      <td>Champions</td>\n",
              "    </tr>\n",
              "    <tr>\n",
              "      <th>12348.0</th>\n",
              "      <td>76</td>\n",
              "      <td>31</td>\n",
              "      <td>1797.24</td>\n",
              "      <td>2</td>\n",
              "      <td>3</td>\n",
              "      <td>4</td>\n",
              "      <td>234</td>\n",
              "      <td>At_Risk</td>\n",
              "    </tr>\n",
              "    <tr>\n",
              "      <th>12349.0</th>\n",
              "      <td>19</td>\n",
              "      <td>73</td>\n",
              "      <td>1757.55</td>\n",
              "      <td>4</td>\n",
              "      <td>4</td>\n",
              "      <td>4</td>\n",
              "      <td>444</td>\n",
              "      <td>Loyal_Customers</td>\n",
              "    </tr>\n",
              "    <tr>\n",
              "      <th>12350.0</th>\n",
              "      <td>311</td>\n",
              "      <td>17</td>\n",
              "      <td>334.40</td>\n",
              "      <td>1</td>\n",
              "      <td>2</td>\n",
              "      <td>2</td>\n",
              "      <td>122</td>\n",
              "      <td>Hibernating</td>\n",
              "    </tr>\n",
              "    <tr>\n",
              "      <th>...</th>\n",
              "      <td>...</td>\n",
              "      <td>...</td>\n",
              "      <td>...</td>\n",
              "      <td>...</td>\n",
              "      <td>...</td>\n",
              "      <td>...</td>\n",
              "      <td>...</td>\n",
              "      <td>...</td>\n",
              "    </tr>\n",
              "    <tr>\n",
              "      <th>18280.0</th>\n",
              "      <td>278</td>\n",
              "      <td>10</td>\n",
              "      <td>180.60</td>\n",
              "      <td>1</td>\n",
              "      <td>1</td>\n",
              "      <td>1</td>\n",
              "      <td>111</td>\n",
              "      <td>Hibernating</td>\n",
              "    </tr>\n",
              "    <tr>\n",
              "      <th>18281.0</th>\n",
              "      <td>181</td>\n",
              "      <td>7</td>\n",
              "      <td>80.82</td>\n",
              "      <td>1</td>\n",
              "      <td>1</td>\n",
              "      <td>1</td>\n",
              "      <td>111</td>\n",
              "      <td>Hibernating</td>\n",
              "    </tr>\n",
              "    <tr>\n",
              "      <th>18282.0</th>\n",
              "      <td>8</td>\n",
              "      <td>12</td>\n",
              "      <td>178.05</td>\n",
              "      <td>5</td>\n",
              "      <td>1</td>\n",
              "      <td>1</td>\n",
              "      <td>511</td>\n",
              "      <td>New_Customers</td>\n",
              "    </tr>\n",
              "    <tr>\n",
              "      <th>18283.0</th>\n",
              "      <td>4</td>\n",
              "      <td>756</td>\n",
              "      <td>2094.88</td>\n",
              "      <td>5</td>\n",
              "      <td>5</td>\n",
              "      <td>5</td>\n",
              "      <td>555</td>\n",
              "      <td>Champions</td>\n",
              "    </tr>\n",
              "    <tr>\n",
              "      <th>18287.0</th>\n",
              "      <td>43</td>\n",
              "      <td>70</td>\n",
              "      <td>1837.28</td>\n",
              "      <td>3</td>\n",
              "      <td>4</td>\n",
              "      <td>4</td>\n",
              "      <td>344</td>\n",
              "      <td>Loyal_Customers</td>\n",
              "    </tr>\n",
              "  </tbody>\n",
              "</table>\n",
              "<p>4338 rows × 8 columns</p>\n",
              "</div>"
            ],
            "text/plain": [
              "             Recency  Frequency  ...  RFM_SCORE          Segment\n",
              "Customer ID                      ...                            \n",
              "12346.0          326          1  ...        115      Hibernating\n",
              "12347.0            3        182  ...        555        Champions\n",
              "12348.0           76         31  ...        234          At_Risk\n",
              "12349.0           19         73  ...        444  Loyal_Customers\n",
              "12350.0          311         17  ...        122      Hibernating\n",
              "...              ...        ...  ...        ...              ...\n",
              "18280.0          278         10  ...        111      Hibernating\n",
              "18281.0          181          7  ...        111      Hibernating\n",
              "18282.0            8         12  ...        511    New_Customers\n",
              "18283.0            4        756  ...        555        Champions\n",
              "18287.0           43         70  ...        344  Loyal_Customers\n",
              "\n",
              "[4338 rows x 8 columns]"
            ]
          },
          "metadata": {
            "tags": []
          },
          "execution_count": 36
        }
      ]
    },
    {
      "cell_type": "code",
      "metadata": {
        "id": "-mlcUpfXz5Ng",
        "colab": {
          "base_uri": "https://localhost:8080/"
        },
        "outputId": "04315bdf-5964-4a37-df4d-09f439077c36"
      },
      "source": [
        "rfm[\"RFM_SCORE\"].unique() # unique rfm skor değerleri"
      ],
      "execution_count": null,
      "outputs": [
        {
          "output_type": "execute_result",
          "data": {
            "text/plain": [
              "array(['115', '555', '234', '444', '122', '345', '111', '134', '112',\n",
              "       '445', '355', '524', '223', '544', '123', '511', '344', '334',\n",
              "       '433', '522', '144', '255', '233', '423', '442', '244', '324',\n",
              "       '455', '312', '245', '333', '323', '554', '133', '545', '235',\n",
              "       '411', '322', '211', '422', '325', '533', '534', '222', '214',\n",
              "       '155', '412', '121', '224', '331', '311', '421', '434', '343',\n",
              "       '435', '512', '353', '321', '145', '413', '432', '225', '232',\n",
              "       '535', '523', '543', '253', '114', '515', '335', '443', '231',\n",
              "       '313', '212', '143', '514', '431', '213', '243', '124', '552',\n",
              "       '414', '113', '454', '221', '424', '132', '513', '354', '532',\n",
              "       '131', '453', '342', '341', '521', '541', '141', '142', '553',\n",
              "       '531', '254', '215', '242', '332', '525', '153', '542', '315',\n",
              "       '135', '154', '152', '125', '352', '252', '241', '314', '441',\n",
              "       '452', '415', '425'], dtype=object)"
            ]
          },
          "metadata": {
            "tags": []
          },
          "execution_count": 37
        }
      ]
    },
    {
      "cell_type": "code",
      "metadata": {
        "colab": {
          "base_uri": "https://localhost:8080/",
          "height": 979
        },
        "id": "cW_F08fF50aE",
        "outputId": "b7670758-64ba-4336-a02d-569a501f28b4"
      },
      "source": [
        "rfm[rfm[\"RFM_SCORE\"]=='543'] # en iyi musteriler"
      ],
      "execution_count": null,
      "outputs": [
        {
          "output_type": "execute_result",
          "data": {
            "text/html": [
              "<div>\n",
              "<style scoped>\n",
              "    .dataframe tbody tr th:only-of-type {\n",
              "        vertical-align: middle;\n",
              "    }\n",
              "\n",
              "    .dataframe tbody tr th {\n",
              "        vertical-align: top;\n",
              "    }\n",
              "\n",
              "    .dataframe thead th {\n",
              "        text-align: right;\n",
              "    }\n",
              "</style>\n",
              "<table border=\"1\" class=\"dataframe\">\n",
              "  <thead>\n",
              "    <tr style=\"text-align: right;\">\n",
              "      <th></th>\n",
              "      <th>Recency</th>\n",
              "      <th>Frequency</th>\n",
              "      <th>Monetary</th>\n",
              "      <th>RecencyScore</th>\n",
              "      <th>FrequencyScore</th>\n",
              "      <th>MonetaryScore</th>\n",
              "      <th>RFM_SCORE</th>\n",
              "      <th>Segment</th>\n",
              "    </tr>\n",
              "    <tr>\n",
              "      <th>Customer ID</th>\n",
              "      <th></th>\n",
              "      <th></th>\n",
              "      <th></th>\n",
              "      <th></th>\n",
              "      <th></th>\n",
              "      <th></th>\n",
              "      <th></th>\n",
              "      <th></th>\n",
              "    </tr>\n",
              "  </thead>\n",
              "  <tbody>\n",
              "    <tr>\n",
              "      <th>12723.0</th>\n",
              "      <td>4</td>\n",
              "      <td>69</td>\n",
              "      <td>725.07</td>\n",
              "      <td>5</td>\n",
              "      <td>4</td>\n",
              "      <td>3</td>\n",
              "      <td>543</td>\n",
              "      <td>Champions</td>\n",
              "    </tr>\n",
              "    <tr>\n",
              "      <th>12784.0</th>\n",
              "      <td>10</td>\n",
              "      <td>59</td>\n",
              "      <td>574.42</td>\n",
              "      <td>5</td>\n",
              "      <td>4</td>\n",
              "      <td>3</td>\n",
              "      <td>543</td>\n",
              "      <td>Champions</td>\n",
              "    </tr>\n",
              "    <tr>\n",
              "      <th>13030.0</th>\n",
              "      <td>12</td>\n",
              "      <td>99</td>\n",
              "      <td>799.48</td>\n",
              "      <td>5</td>\n",
              "      <td>4</td>\n",
              "      <td>3</td>\n",
              "      <td>543</td>\n",
              "      <td>Champions</td>\n",
              "    </tr>\n",
              "    <tr>\n",
              "      <th>13077.0</th>\n",
              "      <td>2</td>\n",
              "      <td>112</td>\n",
              "      <td>729.27</td>\n",
              "      <td>5</td>\n",
              "      <td>4</td>\n",
              "      <td>3</td>\n",
              "      <td>543</td>\n",
              "      <td>Champions</td>\n",
              "    </tr>\n",
              "    <tr>\n",
              "      <th>13314.0</th>\n",
              "      <td>2</td>\n",
              "      <td>62</td>\n",
              "      <td>775.94</td>\n",
              "      <td>5</td>\n",
              "      <td>4</td>\n",
              "      <td>3</td>\n",
              "      <td>543</td>\n",
              "      <td>Champions</td>\n",
              "    </tr>\n",
              "    <tr>\n",
              "      <th>13546.0</th>\n",
              "      <td>13</td>\n",
              "      <td>98</td>\n",
              "      <td>626.99</td>\n",
              "      <td>5</td>\n",
              "      <td>4</td>\n",
              "      <td>3</td>\n",
              "      <td>543</td>\n",
              "      <td>Champions</td>\n",
              "    </tr>\n",
              "    <tr>\n",
              "      <th>13782.0</th>\n",
              "      <td>13</td>\n",
              "      <td>115</td>\n",
              "      <td>912.00</td>\n",
              "      <td>5</td>\n",
              "      <td>4</td>\n",
              "      <td>3</td>\n",
              "      <td>543</td>\n",
              "      <td>Champions</td>\n",
              "    </tr>\n",
              "    <tr>\n",
              "      <th>13822.0</th>\n",
              "      <td>6</td>\n",
              "      <td>96</td>\n",
              "      <td>632.00</td>\n",
              "      <td>5</td>\n",
              "      <td>4</td>\n",
              "      <td>3</td>\n",
              "      <td>543</td>\n",
              "      <td>Champions</td>\n",
              "    </tr>\n",
              "    <tr>\n",
              "      <th>13884.0</th>\n",
              "      <td>8</td>\n",
              "      <td>59</td>\n",
              "      <td>787.60</td>\n",
              "      <td>5</td>\n",
              "      <td>4</td>\n",
              "      <td>3</td>\n",
              "      <td>543</td>\n",
              "      <td>Champions</td>\n",
              "    </tr>\n",
              "    <tr>\n",
              "      <th>13991.0</th>\n",
              "      <td>13</td>\n",
              "      <td>84</td>\n",
              "      <td>855.97</td>\n",
              "      <td>5</td>\n",
              "      <td>4</td>\n",
              "      <td>3</td>\n",
              "      <td>543</td>\n",
              "      <td>Champions</td>\n",
              "    </tr>\n",
              "    <tr>\n",
              "      <th>14140.0</th>\n",
              "      <td>4</td>\n",
              "      <td>66</td>\n",
              "      <td>935.05</td>\n",
              "      <td>5</td>\n",
              "      <td>4</td>\n",
              "      <td>3</td>\n",
              "      <td>543</td>\n",
              "      <td>Champions</td>\n",
              "    </tr>\n",
              "    <tr>\n",
              "      <th>14869.0</th>\n",
              "      <td>9</td>\n",
              "      <td>71</td>\n",
              "      <td>725.70</td>\n",
              "      <td>5</td>\n",
              "      <td>4</td>\n",
              "      <td>3</td>\n",
              "      <td>543</td>\n",
              "      <td>Champions</td>\n",
              "    </tr>\n",
              "    <tr>\n",
              "      <th>14871.0</th>\n",
              "      <td>4</td>\n",
              "      <td>98</td>\n",
              "      <td>522.38</td>\n",
              "      <td>5</td>\n",
              "      <td>4</td>\n",
              "      <td>3</td>\n",
              "      <td>543</td>\n",
              "      <td>Champions</td>\n",
              "    </tr>\n",
              "    <tr>\n",
              "      <th>15031.0</th>\n",
              "      <td>5</td>\n",
              "      <td>111</td>\n",
              "      <td>668.14</td>\n",
              "      <td>5</td>\n",
              "      <td>4</td>\n",
              "      <td>3</td>\n",
              "      <td>543</td>\n",
              "      <td>Champions</td>\n",
              "    </tr>\n",
              "    <tr>\n",
              "      <th>15053.0</th>\n",
              "      <td>5</td>\n",
              "      <td>71</td>\n",
              "      <td>697.79</td>\n",
              "      <td>5</td>\n",
              "      <td>4</td>\n",
              "      <td>3</td>\n",
              "      <td>543</td>\n",
              "      <td>Champions</td>\n",
              "    </tr>\n",
              "    <tr>\n",
              "      <th>15550.0</th>\n",
              "      <td>5</td>\n",
              "      <td>61</td>\n",
              "      <td>575.63</td>\n",
              "      <td>5</td>\n",
              "      <td>4</td>\n",
              "      <td>3</td>\n",
              "      <td>543</td>\n",
              "      <td>Champions</td>\n",
              "    </tr>\n",
              "    <tr>\n",
              "      <th>15721.0</th>\n",
              "      <td>12</td>\n",
              "      <td>91</td>\n",
              "      <td>507.08</td>\n",
              "      <td>5</td>\n",
              "      <td>4</td>\n",
              "      <td>3</td>\n",
              "      <td>543</td>\n",
              "      <td>Champions</td>\n",
              "    </tr>\n",
              "    <tr>\n",
              "      <th>16347.0</th>\n",
              "      <td>12</td>\n",
              "      <td>92</td>\n",
              "      <td>887.65</td>\n",
              "      <td>5</td>\n",
              "      <td>4</td>\n",
              "      <td>3</td>\n",
              "      <td>543</td>\n",
              "      <td>Champions</td>\n",
              "    </tr>\n",
              "    <tr>\n",
              "      <th>16361.0</th>\n",
              "      <td>10</td>\n",
              "      <td>106</td>\n",
              "      <td>896.66</td>\n",
              "      <td>5</td>\n",
              "      <td>4</td>\n",
              "      <td>3</td>\n",
              "      <td>543</td>\n",
              "      <td>Champions</td>\n",
              "    </tr>\n",
              "    <tr>\n",
              "      <th>16368.0</th>\n",
              "      <td>3</td>\n",
              "      <td>76</td>\n",
              "      <td>497.43</td>\n",
              "      <td>5</td>\n",
              "      <td>4</td>\n",
              "      <td>3</td>\n",
              "      <td>543</td>\n",
              "      <td>Champions</td>\n",
              "    </tr>\n",
              "    <tr>\n",
              "      <th>16495.0</th>\n",
              "      <td>4</td>\n",
              "      <td>97</td>\n",
              "      <td>684.41</td>\n",
              "      <td>5</td>\n",
              "      <td>4</td>\n",
              "      <td>3</td>\n",
              "      <td>543</td>\n",
              "      <td>Champions</td>\n",
              "    </tr>\n",
              "    <tr>\n",
              "      <th>16600.0</th>\n",
              "      <td>5</td>\n",
              "      <td>62</td>\n",
              "      <td>813.52</td>\n",
              "      <td>5</td>\n",
              "      <td>4</td>\n",
              "      <td>3</td>\n",
              "      <td>543</td>\n",
              "      <td>Champions</td>\n",
              "    </tr>\n",
              "    <tr>\n",
              "      <th>16892.0</th>\n",
              "      <td>2</td>\n",
              "      <td>99</td>\n",
              "      <td>525.54</td>\n",
              "      <td>5</td>\n",
              "      <td>4</td>\n",
              "      <td>3</td>\n",
              "      <td>543</td>\n",
              "      <td>Champions</td>\n",
              "    </tr>\n",
              "    <tr>\n",
              "      <th>17014.0</th>\n",
              "      <td>9</td>\n",
              "      <td>74</td>\n",
              "      <td>586.33</td>\n",
              "      <td>5</td>\n",
              "      <td>4</td>\n",
              "      <td>3</td>\n",
              "      <td>543</td>\n",
              "      <td>Champions</td>\n",
              "    </tr>\n",
              "    <tr>\n",
              "      <th>17236.0</th>\n",
              "      <td>13</td>\n",
              "      <td>105</td>\n",
              "      <td>916.13</td>\n",
              "      <td>5</td>\n",
              "      <td>4</td>\n",
              "      <td>3</td>\n",
              "      <td>543</td>\n",
              "      <td>Champions</td>\n",
              "    </tr>\n",
              "    <tr>\n",
              "      <th>17290.0</th>\n",
              "      <td>4</td>\n",
              "      <td>102</td>\n",
              "      <td>525.24</td>\n",
              "      <td>5</td>\n",
              "      <td>4</td>\n",
              "      <td>3</td>\n",
              "      <td>543</td>\n",
              "      <td>Champions</td>\n",
              "    </tr>\n",
              "    <tr>\n",
              "      <th>17321.0</th>\n",
              "      <td>9</td>\n",
              "      <td>107</td>\n",
              "      <td>700.86</td>\n",
              "      <td>5</td>\n",
              "      <td>4</td>\n",
              "      <td>3</td>\n",
              "      <td>543</td>\n",
              "      <td>Champions</td>\n",
              "    </tr>\n",
              "    <tr>\n",
              "      <th>17864.0</th>\n",
              "      <td>13</td>\n",
              "      <td>102</td>\n",
              "      <td>597.50</td>\n",
              "      <td>5</td>\n",
              "      <td>4</td>\n",
              "      <td>3</td>\n",
              "      <td>543</td>\n",
              "      <td>Champions</td>\n",
              "    </tr>\n",
              "    <tr>\n",
              "      <th>17884.0</th>\n",
              "      <td>4</td>\n",
              "      <td>117</td>\n",
              "      <td>717.45</td>\n",
              "      <td>5</td>\n",
              "      <td>4</td>\n",
              "      <td>3</td>\n",
              "      <td>543</td>\n",
              "      <td>Champions</td>\n",
              "    </tr>\n",
              "  </tbody>\n",
              "</table>\n",
              "</div>"
            ],
            "text/plain": [
              "             Recency  Frequency  Monetary  ... MonetaryScore RFM_SCORE    Segment\n",
              "Customer ID                                ...                                   \n",
              "12723.0            4         69    725.07  ...             3       543  Champions\n",
              "12784.0           10         59    574.42  ...             3       543  Champions\n",
              "13030.0           12         99    799.48  ...             3       543  Champions\n",
              "13077.0            2        112    729.27  ...             3       543  Champions\n",
              "13314.0            2         62    775.94  ...             3       543  Champions\n",
              "13546.0           13         98    626.99  ...             3       543  Champions\n",
              "13782.0           13        115    912.00  ...             3       543  Champions\n",
              "13822.0            6         96    632.00  ...             3       543  Champions\n",
              "13884.0            8         59    787.60  ...             3       543  Champions\n",
              "13991.0           13         84    855.97  ...             3       543  Champions\n",
              "14140.0            4         66    935.05  ...             3       543  Champions\n",
              "14869.0            9         71    725.70  ...             3       543  Champions\n",
              "14871.0            4         98    522.38  ...             3       543  Champions\n",
              "15031.0            5        111    668.14  ...             3       543  Champions\n",
              "15053.0            5         71    697.79  ...             3       543  Champions\n",
              "15550.0            5         61    575.63  ...             3       543  Champions\n",
              "15721.0           12         91    507.08  ...             3       543  Champions\n",
              "16347.0           12         92    887.65  ...             3       543  Champions\n",
              "16361.0           10        106    896.66  ...             3       543  Champions\n",
              "16368.0            3         76    497.43  ...             3       543  Champions\n",
              "16495.0            4         97    684.41  ...             3       543  Champions\n",
              "16600.0            5         62    813.52  ...             3       543  Champions\n",
              "16892.0            2         99    525.54  ...             3       543  Champions\n",
              "17014.0            9         74    586.33  ...             3       543  Champions\n",
              "17236.0           13        105    916.13  ...             3       543  Champions\n",
              "17290.0            4        102    525.24  ...             3       543  Champions\n",
              "17321.0            9        107    700.86  ...             3       543  Champions\n",
              "17864.0           13        102    597.50  ...             3       543  Champions\n",
              "17884.0            4        117    717.45  ...             3       543  Champions\n",
              "\n",
              "[29 rows x 8 columns]"
            ]
          },
          "metadata": {
            "tags": []
          },
          "execution_count": 38
        }
      ]
    },
    {
      "cell_type": "code",
      "metadata": {
        "colab": {
          "base_uri": "https://localhost:8080/",
          "height": 545
        },
        "id": "NcSvi0aa6lFI",
        "outputId": "5ba84bc9-944c-4700-d6c8-6323f4fb9904"
      },
      "source": [
        "rfm[rfm[\"RFM_SCORE\"]=='542']"
      ],
      "execution_count": null,
      "outputs": [
        {
          "output_type": "execute_result",
          "data": {
            "text/html": [
              "<div>\n",
              "<style scoped>\n",
              "    .dataframe tbody tr th:only-of-type {\n",
              "        vertical-align: middle;\n",
              "    }\n",
              "\n",
              "    .dataframe tbody tr th {\n",
              "        vertical-align: top;\n",
              "    }\n",
              "\n",
              "    .dataframe thead th {\n",
              "        text-align: right;\n",
              "    }\n",
              "</style>\n",
              "<table border=\"1\" class=\"dataframe\">\n",
              "  <thead>\n",
              "    <tr style=\"text-align: right;\">\n",
              "      <th></th>\n",
              "      <th>Recency</th>\n",
              "      <th>Frequency</th>\n",
              "      <th>Monetary</th>\n",
              "      <th>RecencyScore</th>\n",
              "      <th>FrequencyScore</th>\n",
              "      <th>MonetaryScore</th>\n",
              "      <th>RFM_SCORE</th>\n",
              "      <th>Segment</th>\n",
              "    </tr>\n",
              "    <tr>\n",
              "      <th>Customer ID</th>\n",
              "      <th></th>\n",
              "      <th></th>\n",
              "      <th></th>\n",
              "      <th></th>\n",
              "      <th></th>\n",
              "      <th></th>\n",
              "      <th></th>\n",
              "      <th></th>\n",
              "    </tr>\n",
              "  </thead>\n",
              "  <tbody>\n",
              "    <tr>\n",
              "      <th>14093.0</th>\n",
              "      <td>13</td>\n",
              "      <td>105</td>\n",
              "      <td>442.85</td>\n",
              "      <td>5</td>\n",
              "      <td>4</td>\n",
              "      <td>2</td>\n",
              "      <td>542</td>\n",
              "      <td>Champions</td>\n",
              "    </tr>\n",
              "    <tr>\n",
              "      <th>14452.0</th>\n",
              "      <td>11</td>\n",
              "      <td>62</td>\n",
              "      <td>264.44</td>\n",
              "      <td>5</td>\n",
              "      <td>4</td>\n",
              "      <td>2</td>\n",
              "      <td>542</td>\n",
              "      <td>Champions</td>\n",
              "    </tr>\n",
              "    <tr>\n",
              "      <th>14954.0</th>\n",
              "      <td>13</td>\n",
              "      <td>85</td>\n",
              "      <td>336.17</td>\n",
              "      <td>5</td>\n",
              "      <td>4</td>\n",
              "      <td>2</td>\n",
              "      <td>542</td>\n",
              "      <td>Champions</td>\n",
              "    </tr>\n",
              "    <tr>\n",
              "      <th>15054.0</th>\n",
              "      <td>13</td>\n",
              "      <td>114</td>\n",
              "      <td>302.10</td>\n",
              "      <td>5</td>\n",
              "      <td>4</td>\n",
              "      <td>2</td>\n",
              "      <td>542</td>\n",
              "      <td>Champions</td>\n",
              "    </tr>\n",
              "    <tr>\n",
              "      <th>15060.0</th>\n",
              "      <td>9</td>\n",
              "      <td>121</td>\n",
              "      <td>303.09</td>\n",
              "      <td>5</td>\n",
              "      <td>4</td>\n",
              "      <td>2</td>\n",
              "      <td>542</td>\n",
              "      <td>Champions</td>\n",
              "    </tr>\n",
              "    <tr>\n",
              "      <th>15471.0</th>\n",
              "      <td>3</td>\n",
              "      <td>77</td>\n",
              "      <td>469.48</td>\n",
              "      <td>5</td>\n",
              "      <td>4</td>\n",
              "      <td>2</td>\n",
              "      <td>542</td>\n",
              "      <td>Champions</td>\n",
              "    </tr>\n",
              "    <tr>\n",
              "      <th>16024.0</th>\n",
              "      <td>13</td>\n",
              "      <td>64</td>\n",
              "      <td>251.24</td>\n",
              "      <td>5</td>\n",
              "      <td>4</td>\n",
              "      <td>2</td>\n",
              "      <td>542</td>\n",
              "      <td>Champions</td>\n",
              "    </tr>\n",
              "    <tr>\n",
              "      <th>17221.0</th>\n",
              "      <td>8</td>\n",
              "      <td>63</td>\n",
              "      <td>335.13</td>\n",
              "      <td>5</td>\n",
              "      <td>4</td>\n",
              "      <td>2</td>\n",
              "      <td>542</td>\n",
              "      <td>Champions</td>\n",
              "    </tr>\n",
              "    <tr>\n",
              "      <th>17254.0</th>\n",
              "      <td>5</td>\n",
              "      <td>112</td>\n",
              "      <td>272.44</td>\n",
              "      <td>5</td>\n",
              "      <td>4</td>\n",
              "      <td>2</td>\n",
              "      <td>542</td>\n",
              "      <td>Champions</td>\n",
              "    </tr>\n",
              "    <tr>\n",
              "      <th>17266.0</th>\n",
              "      <td>3</td>\n",
              "      <td>80</td>\n",
              "      <td>310.64</td>\n",
              "      <td>5</td>\n",
              "      <td>4</td>\n",
              "      <td>2</td>\n",
              "      <td>542</td>\n",
              "      <td>Champions</td>\n",
              "    </tr>\n",
              "    <tr>\n",
              "      <th>17379.0</th>\n",
              "      <td>12</td>\n",
              "      <td>83</td>\n",
              "      <td>404.66</td>\n",
              "      <td>5</td>\n",
              "      <td>4</td>\n",
              "      <td>2</td>\n",
              "      <td>542</td>\n",
              "      <td>Champions</td>\n",
              "    </tr>\n",
              "    <tr>\n",
              "      <th>17595.0</th>\n",
              "      <td>13</td>\n",
              "      <td>83</td>\n",
              "      <td>388.79</td>\n",
              "      <td>5</td>\n",
              "      <td>4</td>\n",
              "      <td>2</td>\n",
              "      <td>542</td>\n",
              "      <td>Champions</td>\n",
              "    </tr>\n",
              "    <tr>\n",
              "      <th>17835.0</th>\n",
              "      <td>3</td>\n",
              "      <td>61</td>\n",
              "      <td>350.64</td>\n",
              "      <td>5</td>\n",
              "      <td>4</td>\n",
              "      <td>2</td>\n",
              "      <td>542</td>\n",
              "      <td>Champions</td>\n",
              "    </tr>\n",
              "    <tr>\n",
              "      <th>17914.0</th>\n",
              "      <td>4</td>\n",
              "      <td>80</td>\n",
              "      <td>336.43</td>\n",
              "      <td>5</td>\n",
              "      <td>4</td>\n",
              "      <td>2</td>\n",
              "      <td>542</td>\n",
              "      <td>Champions</td>\n",
              "    </tr>\n",
              "    <tr>\n",
              "      <th>17936.0</th>\n",
              "      <td>6</td>\n",
              "      <td>77</td>\n",
              "      <td>389.84</td>\n",
              "      <td>5</td>\n",
              "      <td>4</td>\n",
              "      <td>2</td>\n",
              "      <td>542</td>\n",
              "      <td>Champions</td>\n",
              "    </tr>\n",
              "  </tbody>\n",
              "</table>\n",
              "</div>"
            ],
            "text/plain": [
              "             Recency  Frequency  Monetary  ... MonetaryScore RFM_SCORE    Segment\n",
              "Customer ID                                ...                                   \n",
              "14093.0           13        105    442.85  ...             2       542  Champions\n",
              "14452.0           11         62    264.44  ...             2       542  Champions\n",
              "14954.0           13         85    336.17  ...             2       542  Champions\n",
              "15054.0           13        114    302.10  ...             2       542  Champions\n",
              "15060.0            9        121    303.09  ...             2       542  Champions\n",
              "15471.0            3         77    469.48  ...             2       542  Champions\n",
              "16024.0           13         64    251.24  ...             2       542  Champions\n",
              "17221.0            8         63    335.13  ...             2       542  Champions\n",
              "17254.0            5        112    272.44  ...             2       542  Champions\n",
              "17266.0            3         80    310.64  ...             2       542  Champions\n",
              "17379.0           12         83    404.66  ...             2       542  Champions\n",
              "17595.0           13         83    388.79  ...             2       542  Champions\n",
              "17835.0            3         61    350.64  ...             2       542  Champions\n",
              "17914.0            4         80    336.43  ...             2       542  Champions\n",
              "17936.0            6         77    389.84  ...             2       542  Champions\n",
              "\n",
              "[15 rows x 8 columns]"
            ]
          },
          "metadata": {
            "tags": []
          },
          "execution_count": 39
        }
      ]
    },
    {
      "cell_type": "markdown",
      "metadata": {
        "id": "0a7HvND20U7u"
      },
      "source": [
        "**Segmentlere göre Recency , Frequency, Monetary ortalama değerleri ve sayıları**"
      ]
    },
    {
      "cell_type": "code",
      "metadata": {
        "id": "TyoN78s-eJc_",
        "colab": {
          "base_uri": "https://localhost:8080/",
          "height": 421
        },
        "outputId": "f93e73e7-fcc3-4c71-c2cc-88fa20d52690"
      },
      "source": [
        "rfm[[\"Segment\", \"Recency\", \"Frequency\", \"Monetary\"]].groupby(\"Segment\").agg([\"mean\", \"count\"])"
      ],
      "execution_count": null,
      "outputs": [
        {
          "output_type": "execute_result",
          "data": {
            "text/html": [
              "<div>\n",
              "<style scoped>\n",
              "    .dataframe tbody tr th:only-of-type {\n",
              "        vertical-align: middle;\n",
              "    }\n",
              "\n",
              "    .dataframe tbody tr th {\n",
              "        vertical-align: top;\n",
              "    }\n",
              "\n",
              "    .dataframe thead tr th {\n",
              "        text-align: left;\n",
              "    }\n",
              "\n",
              "    .dataframe thead tr:last-of-type th {\n",
              "        text-align: right;\n",
              "    }\n",
              "</style>\n",
              "<table border=\"1\" class=\"dataframe\">\n",
              "  <thead>\n",
              "    <tr>\n",
              "      <th></th>\n",
              "      <th colspan=\"2\" halign=\"left\">Recency</th>\n",
              "      <th colspan=\"2\" halign=\"left\">Frequency</th>\n",
              "      <th colspan=\"2\" halign=\"left\">Monetary</th>\n",
              "    </tr>\n",
              "    <tr>\n",
              "      <th></th>\n",
              "      <th>mean</th>\n",
              "      <th>count</th>\n",
              "      <th>mean</th>\n",
              "      <th>count</th>\n",
              "      <th>mean</th>\n",
              "      <th>count</th>\n",
              "    </tr>\n",
              "    <tr>\n",
              "      <th>Segment</th>\n",
              "      <th></th>\n",
              "      <th></th>\n",
              "      <th></th>\n",
              "      <th></th>\n",
              "      <th></th>\n",
              "      <th></th>\n",
              "    </tr>\n",
              "  </thead>\n",
              "  <tbody>\n",
              "    <tr>\n",
              "      <th>About_to_Sleep</th>\n",
              "      <td>53.192547</td>\n",
              "      <td>322</td>\n",
              "      <td>15.987578</td>\n",
              "      <td>322</td>\n",
              "      <td>450.997174</td>\n",
              "      <td>322</td>\n",
              "    </tr>\n",
              "    <tr>\n",
              "      <th>At_Risk</th>\n",
              "      <td>166.435852</td>\n",
              "      <td>569</td>\n",
              "      <td>56.859402</td>\n",
              "      <td>569</td>\n",
              "      <td>996.916872</td>\n",
              "      <td>569</td>\n",
              "    </tr>\n",
              "    <tr>\n",
              "      <th>Cant_Loose</th>\n",
              "      <td>144.226190</td>\n",
              "      <td>84</td>\n",
              "      <td>181.666667</td>\n",
              "      <td>84</td>\n",
              "      <td>2370.705012</td>\n",
              "      <td>84</td>\n",
              "    </tr>\n",
              "    <tr>\n",
              "      <th>Champions</th>\n",
              "      <td>6.400990</td>\n",
              "      <td>606</td>\n",
              "      <td>289.031353</td>\n",
              "      <td>606</td>\n",
              "      <td>6960.915446</td>\n",
              "      <td>606</td>\n",
              "    </tr>\n",
              "    <tr>\n",
              "      <th>Hibernating</th>\n",
              "      <td>210.251397</td>\n",
              "      <td>1074</td>\n",
              "      <td>13.589385</td>\n",
              "      <td>1074</td>\n",
              "      <td>536.535672</td>\n",
              "      <td>1074</td>\n",
              "    </tr>\n",
              "    <tr>\n",
              "      <th>Loyal_Customers</th>\n",
              "      <td>34.206854</td>\n",
              "      <td>817</td>\n",
              "      <td>157.116279</td>\n",
              "      <td>817</td>\n",
              "      <td>2845.732852</td>\n",
              "      <td>817</td>\n",
              "    </tr>\n",
              "    <tr>\n",
              "      <th>Need_Attention</th>\n",
              "      <td>52.985366</td>\n",
              "      <td>205</td>\n",
              "      <td>41.736585</td>\n",
              "      <td>205</td>\n",
              "      <td>856.195854</td>\n",
              "      <td>205</td>\n",
              "    </tr>\n",
              "    <tr>\n",
              "      <th>New_Customers</th>\n",
              "      <td>7.421053</td>\n",
              "      <td>57</td>\n",
              "      <td>7.578947</td>\n",
              "      <td>57</td>\n",
              "      <td>3618.697018</td>\n",
              "      <td>57</td>\n",
              "    </tr>\n",
              "    <tr>\n",
              "      <th>Potential_Loyalists</th>\n",
              "      <td>16.668699</td>\n",
              "      <td>492</td>\n",
              "      <td>34.945122</td>\n",
              "      <td>492</td>\n",
              "      <td>915.486994</td>\n",
              "      <td>492</td>\n",
              "    </tr>\n",
              "    <tr>\n",
              "      <th>Promising</th>\n",
              "      <td>23.437500</td>\n",
              "      <td>112</td>\n",
              "      <td>7.767857</td>\n",
              "      <td>112</td>\n",
              "      <td>429.433929</td>\n",
              "      <td>112</td>\n",
              "    </tr>\n",
              "  </tbody>\n",
              "</table>\n",
              "</div>"
            ],
            "text/plain": [
              "                        Recency         Frequency           Monetary      \n",
              "                           mean count        mean count         mean count\n",
              "Segment                                                                   \n",
              "About_to_Sleep        53.192547   322   15.987578   322   450.997174   322\n",
              "At_Risk              166.435852   569   56.859402   569   996.916872   569\n",
              "Cant_Loose           144.226190    84  181.666667    84  2370.705012    84\n",
              "Champions              6.400990   606  289.031353   606  6960.915446   606\n",
              "Hibernating          210.251397  1074   13.589385  1074   536.535672  1074\n",
              "Loyal_Customers       34.206854   817  157.116279   817  2845.732852   817\n",
              "Need_Attention        52.985366   205   41.736585   205   856.195854   205\n",
              "New_Customers          7.421053    57    7.578947    57  3618.697018    57\n",
              "Potential_Loyalists   16.668699   492   34.945122   492   915.486994   492\n",
              "Promising             23.437500   112    7.767857   112   429.433929   112"
            ]
          },
          "metadata": {
            "tags": []
          },
          "execution_count": 41
        }
      ]
    },
    {
      "cell_type": "code",
      "metadata": {
        "id": "cWe8Db7G7KIL"
      },
      "source": [
        "eda_2 = rfm[[\"Segment\", \"Recency\", \"Frequency\", \"Monetary\"]].groupby(\"Segment\").agg(\"count\")"
      ],
      "execution_count": null,
      "outputs": []
    },
    {
      "cell_type": "code",
      "metadata": {
        "id": "aq153rEC7aWn"
      },
      "source": [
        "eda_2.reset_index(inplace=True)"
      ],
      "execution_count": null,
      "outputs": []
    },
    {
      "cell_type": "code",
      "metadata": {
        "colab": {
          "base_uri": "https://localhost:8080/",
          "height": 428
        },
        "id": "x_gM_hGC7CLa",
        "outputId": "d16105dc-e735-45a3-db12-1eb7252b8864"
      },
      "source": [
        "def count_rfm(DataFrame): \r\n",
        "    plt.figure(figsize=(15,5))\r\n",
        "    ax = sns.barplot(x='Segment', y='Monetary', data=eda_2)\r\n",
        "    ax.set_xticklabels(ax.get_xticklabels(), rotation=45,fontsize=12)\r\n",
        "    plt.title(\" RFM value counts of Segments\")\r\n",
        "count_rfm(eda_2)"
      ],
      "execution_count": null,
      "outputs": [
        {
          "output_type": "display_data",
          "data": {
            "image/png": "[encoded data removed]",
            "text/plain": [
              "<Figure size 1080x360 with 1 Axes>"
            ]
          },
          "metadata": {
            "tags": [],
            "needs_background": "light"
          }
        }
      ]
    },
    {
      "cell_type": "code",
      "metadata": {
        "id": "4Pcus4sf1EC6"
      },
      "source": [
        "eda_3 = rfm[[\"Segment\", \"Recency\", \"Frequency\", \"Monetary\"]].groupby(\"Segment\").agg(\"mean\")\r\n"
      ],
      "execution_count": null,
      "outputs": []
    },
    {
      "cell_type": "code",
      "metadata": {
        "id": "nx14P8Wx1RbQ"
      },
      "source": [
        "eda_3.reset_index(inplace=True)"
      ],
      "execution_count": null,
      "outputs": []
    },
    {
      "cell_type": "code",
      "metadata": {
        "colab": {
          "base_uri": "https://localhost:8080/",
          "height": 428
        },
        "id": "YSKLZWW19Akn",
        "outputId": "d323051a-d894-4791-ce08-4a79e226d2ac"
      },
      "source": [
        "def mean_recency(DataFrame): # her segmentin ortalama recency değerleri \r\n",
        "    plt.figure(figsize=(15,5))\r\n",
        "    ax = sns.barplot(x='Segment', y='Recency', data=eda_3)\r\n",
        "    ax.set_xticklabels(ax.get_xticklabels(), rotation=45,fontsize=12)\r\n",
        "    plt.title(\"Recency Values of Segments\")\r\n",
        "mean_recency(eda_3)"
      ],
      "execution_count": null,
      "outputs": [
        {
          "output_type": "display_data",
          "data": {
            "image/png": "[encoded data removed]",
            "text/plain": [
              "<Figure size 1080x360 with 1 Axes>"
            ]
          },
          "metadata": {
            "tags": [],
            "needs_background": "light"
          }
        }
      ]
    },
    {
      "cell_type": "code",
      "metadata": {
        "colab": {
          "base_uri": "https://localhost:8080/",
          "height": 428
        },
        "id": "7yY-v1Kiy9KG",
        "outputId": "092e73eb-6265-4d0a-8536-bb33dd823c8a"
      },
      "source": [
        "def mean_monetary(DataFrame): # her segmentin ortalama monetary değerleri \r\n",
        "    plt.figure(figsize=(15,5))\r\n",
        "    ax = sns.barplot(x='Segment', y='Monetary', data=eda_3)\r\n",
        "    ax.set_xticklabels(ax.get_xticklabels(), rotation=45,fontsize=12)\r\n",
        "    plt.title(\"Mean Monetary Values of Segments\")\r\n",
        "mean_monetary(eda_3)"
      ],
      "execution_count": null,
      "outputs": [
        {
          "output_type": "display_data",
          "data": {
            "image/png": "[encoded data removed]",
            "text/plain": [
              "<Figure size 1080x360 with 1 Axes>"
            ]
          },
          "metadata": {
            "tags": [],
            "needs_background": "light"
          }
        }
      ]
    },
    {
      "cell_type": "code",
      "metadata": {
        "colab": {
          "base_uri": "https://localhost:8080/",
          "height": 428
        },
        "id": "jZ-JWAOL13d_",
        "outputId": "84f0eba3-3c1d-4b16-f7ad-b24fbd6a2fb6"
      },
      "source": [
        "def mean_frequency(DataFrame): #her segmentin ortalama frequency değerleri\r\n",
        "    plt.figure(figsize=(15,5))\r\n",
        "    ax = sns.barplot(x='Segment', y='Frequency', data=eda_3)\r\n",
        "    ax.set_xticklabels(ax.get_xticklabels(), rotation=45,fontsize=12)\r\n",
        "    plt.title(\"Mean Frequency Values of Segments\")\r\n",
        "mean_frequency(eda_3)"
      ],
      "execution_count": null,
      "outputs": [
        {
          "output_type": "display_data",
          "data": {
            "image/png": "[encoded data removed]",
            "text/plain": [
              "<Figure size 1080x360 with 1 Axes>"
            ]
          },
          "metadata": {
            "tags": [],
            "needs_background": "light"
          }
        }
      ]
    },
    {
      "cell_type": "markdown",
      "metadata": {
        "id": "ItKsuHZzimTo"
      },
      "source": [
        "Loyal Customer'lar excel dosyasına aktarıldı. "
      ]
    },
    {
      "cell_type": "code",
      "metadata": {
        "id": "OawZfmAmh5ZI"
      },
      "source": [
        "new_df = pd.DataFrame()\r\n",
        "\r\n",
        "new_df[\"Loyal_Customers\"] = rfm[rfm[\"Segment\"] == \"Loyal_Customers\"].index\r\n",
        "\r\n",
        "new_df.to_csv(\"Loyal_Customers.csv\")\r\n",
        "new_df.to_excel(\"Loyal_Customers.xlsx\")"
      ],
      "execution_count": null,
      "outputs": []
    }
  ]
}